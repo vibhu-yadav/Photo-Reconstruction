{
 "cells": [
  {
   "cell_type": "code",
   "execution_count": null,
   "metadata": {},
   "outputs": [],
   "source": [
    "# ! mkdir Dataset\n",
    "# ! mkdir Dataset/Train\n",
    "# ! mkdir Dataset/Test\n",
    "# ! unzip photo-reconstruction.zip "
   ]
  },
  {
   "cell_type": "code",
   "execution_count": 2,
   "metadata": {},
   "outputs": [],
   "source": [
    "import cv2\n",
    "import matplotlib.pyplot as plt\n",
    "import os"
   ]
  },
  {
   "cell_type": "markdown",
   "metadata": {},
   "source": [
    "# Dataset Preparation for Pix2Pix"
   ]
  },
  {
   "cell_type": "code",
   "execution_count": 15,
   "metadata": {},
   "outputs": [],
   "source": [
    "for dir,subdirs,files in os.walk('./photo-reconstruction/Dataset/Training_Data/'):\n",
    "    \n",
    "    if dir.split('\\\\')[-1] == 'Masked_Train':\n",
    "        for file in files:\n",
    "            \n",
    "            if file.endswith('.csv'):\n",
    "                continue\n",
    "            \n",
    "            im1 = os.path.join(dir,file)\n",
    "            im2 = os.path.join(dir,file).replace('Masked_Train','Unmasked_Train')\n",
    "            img1 = cv2.imread(im1)\n",
    "            img2 = cv2.imread(im2)\n",
    "            img = cv2.hconcat([img1,img2])\n",
    "            cv2.imwrite(f'./Dataset/Train/{file}',img)        "
   ]
  },
  {
   "cell_type": "code",
   "execution_count": 3,
   "metadata": {},
   "outputs": [],
   "source": [
    "for dir,subdirs,files in os.walk('./photo-reconstruction/Dataset/Testing_Data/'):\n",
    "    \n",
    "    for file in files:\n",
    "        \n",
    "        if file.endswith('.csv'):\n",
    "            continue\n",
    "        \n",
    "        im1 = os.path.join(dir,file)\n",
    "        img1 = cv2.imread(im1)\n",
    "        img = cv2.hconcat([img1,img1])\n",
    "        cv2.imwrite(f'./Dataset/Test/{file}',img)        "
   ]
  },
  {
   "cell_type": "markdown",
   "metadata": {},
   "source": [
    "# Cycle Gan"
   ]
  },
  {
   "cell_type": "code",
   "execution_count": 4,
   "metadata": {},
   "outputs": [],
   "source": [
    "for dir,subdirs,files in os.walk('./photo-reconstruction/Dataset/Training_Data/'):\n",
    "    \n",
    "    if dir.split('\\\\')[-1] == 'Masked_Train':\n",
    "        for file in files:\n",
    "            \n",
    "            if file.endswith('.csv'):\n",
    "                continue\n",
    "            \n",
    "            im1 = os.path.join(dir,file)\n",
    "            im2 = os.path.join(dir,file).replace('Masked_Train','Unmasked_Train')\n",
    "            img1 = cv2.imread(im1)\n",
    "            img2 = cv2.imread(im2)\n",
    "            img = cv2.hconcat([img1,img2])\n",
    "            cv2.imwrite(f'./Cycle_Gan/Train/{file}',img)  \n",
    "            \n",
    "            cv2.imwrite(f'./Cycle_Gan/TrainA/{file}',img1) \n",
    "            cv2.imwrite(f'./Cycle_Gan/TrainB/{file}',img2)  "
   ]
  },
  {
   "cell_type": "code",
   "execution_count": null,
   "metadata": {},
   "outputs": [],
   "source": []
  }
 ],
 "metadata": {
  "kernelspec": {
   "display_name": "torch",
   "language": "python",
   "name": "python3"
  },
  "language_info": {
   "codemirror_mode": {
    "name": "ipython",
    "version": 3
   },
   "file_extension": ".py",
   "mimetype": "text/x-python",
   "name": "python",
   "nbconvert_exporter": "python",
   "pygments_lexer": "ipython3",
   "version": "3.10.9"
  },
  "orig_nbformat": 4,
  "vscode": {
   "interpreter": {
    "hash": "da6694989853b2564cb2536aad3434b0f717cec9d612e7798250f9346d28b6e4"
   }
  }
 },
 "nbformat": 4,
 "nbformat_minor": 2
}
