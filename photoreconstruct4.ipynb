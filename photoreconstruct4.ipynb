{
 "cells": [
  {
   "cell_type": "code",
   "execution_count": 1,
   "id": "d79bb283",
   "metadata": {
    "execution": {
     "iopub.execute_input": "2023-04-15T11:52:03.841507Z",
     "iopub.status.busy": "2023-04-15T11:52:03.840423Z",
     "iopub.status.idle": "2023-04-15T11:52:10.182871Z",
     "shell.execute_reply": "2023-04-15T11:52:10.181296Z"
    },
    "papermill": {
     "duration": 6.358914,
     "end_time": "2023-04-15T11:52:10.187076",
     "exception": false,
     "start_time": "2023-04-15T11:52:03.828162",
     "status": "completed"
    },
    "tags": []
   },
   "outputs": [],
   "source": [
    "import tensorflow as tf\n",
    "import glob\n",
    "from matplotlib import pyplot as plt\n",
    "from PIL import Image\n",
    "import numpy as np # linear algebra\n",
    "import pandas as pd\n",
    "from tensorflow import keras\n",
    "from tensorflow.keras import preprocessing\n",
    "import tensorflow as tf\n",
    "from tensorflow.keras.layers import Input\n",
    "from tensorflow.keras.models import Model\n",
    "from tensorflow.keras.optimizers import Adam\n",
    "from tensorflow.keras.layers import BatchNormalization\n",
    "from tensorflow.keras.layers.experimental.preprocessing import Rescaling\n",
    "# import segmentation_models as sm"
   ]
  },
  {
   "cell_type": "code",
   "execution_count": 2,
   "id": "b2b3058c",
   "metadata": {
    "execution": {
     "iopub.execute_input": "2023-04-15T11:52:10.226245Z",
     "iopub.status.busy": "2023-04-15T11:52:10.225420Z",
     "iopub.status.idle": "2023-04-15T11:52:14.615913Z",
     "shell.execute_reply": "2023-04-15T11:52:14.614560Z"
    },
    "papermill": {
     "duration": 4.414265,
     "end_time": "2023-04-15T11:52:14.618187",
     "exception": false,
     "start_time": "2023-04-15T11:52:10.203922",
     "status": "completed"
    },
    "tags": []
   },
   "outputs": [
    {
     "name": "stdout",
     "output_type": "stream",
     "text": [
      "Found 1750 files belonging to 1 classes.\n",
      "Found 1750 files belonging to 1 classes.\n"
     ]
    }
   ],
   "source": [
    "dataset1 = keras.utils.image_dataset_from_directory(directory=\"/kaggle/input/photo-reconstruction/Dataset/Training_Data/Cat/Masked_Train\", batch_size=1, image_size=[256, 256], labels=\"inferred\", label_mode=None, shuffle=False)\n",
    "dataset2 = keras.utils.image_dataset_from_directory(directory=\"/kaggle/input/photo-reconstruction/Dataset/Training_Data/Cat/Unmasked_Train\", batch_size=1, image_size=[256, 256], labels=\"inferred\", label_mode=None, shuffle=False)"
   ]
  },
  {
   "cell_type": "code",
   "execution_count": 3,
   "id": "81f323f4",
   "metadata": {
    "execution": {
     "iopub.execute_input": "2023-04-15T11:52:14.639641Z",
     "iopub.status.busy": "2023-04-15T11:52:14.639305Z",
     "iopub.status.idle": "2023-04-15T11:52:14.646844Z",
     "shell.execute_reply": "2023-04-15T11:52:14.645925Z"
    },
    "papermill": {
     "duration": 0.021446,
     "end_time": "2023-04-15T11:52:14.649107",
     "exception": false,
     "start_time": "2023-04-15T11:52:14.627661",
     "status": "completed"
    },
    "tags": []
   },
   "outputs": [],
   "source": [
    "dataset = tf.data.Dataset.zip((dataset1, dataset2))"
   ]
  },
  {
   "cell_type": "code",
   "execution_count": 4,
   "id": "aced517d",
   "metadata": {
    "execution": {
     "iopub.execute_input": "2023-04-15T11:52:14.668534Z",
     "iopub.status.busy": "2023-04-15T11:52:14.668236Z",
     "iopub.status.idle": "2023-04-15T11:52:14.677933Z",
     "shell.execute_reply": "2023-04-15T11:52:14.677052Z"
    },
    "papermill": {
     "duration": 0.02205,
     "end_time": "2023-04-15T11:52:14.680093",
     "exception": false,
     "start_time": "2023-04-15T11:52:14.658043",
     "status": "completed"
    },
    "tags": []
   },
   "outputs": [],
   "source": [
    "train_size = int(0.8*dataset.cardinality().numpy())\n",
    "\n",
    "train_dataset = dataset.take(train_size)\n",
    "val_dataset = dataset.skip(train_size)"
   ]
  },
  {
   "cell_type": "code",
   "execution_count": 5,
   "id": "fc82e8d2",
   "metadata": {
    "execution": {
     "iopub.execute_input": "2023-04-15T11:52:14.700086Z",
     "iopub.status.busy": "2023-04-15T11:52:14.699766Z",
     "iopub.status.idle": "2023-04-15T11:52:14.705275Z",
     "shell.execute_reply": "2023-04-15T11:52:14.704199Z"
    },
    "papermill": {
     "duration": 0.01784,
     "end_time": "2023-04-15T11:52:14.707474",
     "exception": false,
     "start_time": "2023-04-15T11:52:14.689634",
     "status": "completed"
    },
    "tags": []
   },
   "outputs": [],
   "source": [
    "# Normalizing the images to [-1, 1]\n",
    "def normalize(input_image, real_image):\n",
    "    input_image = tf.cast(input_image, tf.float32)\n",
    "    real_image = tf.cast(real_image, tf.float32)\n",
    "    input_image = (input_image / 127.5) - 1\n",
    "    real_image = (real_image / 127.5) - 1\n",
    "\n",
    "    return input_image, real_image"
   ]
  },
  {
   "cell_type": "code",
   "execution_count": 6,
   "id": "66405170",
   "metadata": {
    "execution": {
     "iopub.execute_input": "2023-04-15T11:52:14.727022Z",
     "iopub.status.busy": "2023-04-15T11:52:14.726737Z",
     "iopub.status.idle": "2023-04-15T11:52:14.802971Z",
     "shell.execute_reply": "2023-04-15T11:52:14.802001Z"
    },
    "papermill": {
     "duration": 0.088918,
     "end_time": "2023-04-15T11:52:14.805522",
     "exception": false,
     "start_time": "2023-04-15T11:52:14.716604",
     "status": "completed"
    },
    "tags": []
   },
   "outputs": [],
   "source": [
    "AUTOTUNE = tf.data.AUTOTUNE\n",
    "train_dataset = train_dataset.map(normalize, num_parallel_calls=AUTOTUNE)\n",
    "val_dataset = val_dataset.map(normalize, num_parallel_calls=AUTOTUNE)"
   ]
  },
  {
   "cell_type": "code",
   "execution_count": 7,
   "id": "97328cdc",
   "metadata": {
    "execution": {
     "iopub.execute_input": "2023-04-15T11:52:14.825730Z",
     "iopub.status.busy": "2023-04-15T11:52:14.825144Z",
     "iopub.status.idle": "2023-04-15T11:52:14.834283Z",
     "shell.execute_reply": "2023-04-15T11:52:14.833394Z"
    },
    "papermill": {
     "duration": 0.021757,
     "end_time": "2023-04-15T11:52:14.836555",
     "exception": false,
     "start_time": "2023-04-15T11:52:14.814798",
     "status": "completed"
    },
    "tags": []
   },
   "outputs": [
    {
     "data": {
      "text/plain": [
       "-1"
      ]
     },
     "execution_count": 7,
     "metadata": {},
     "output_type": "execute_result"
    }
   ],
   "source": [
    "AUTOTUNE"
   ]
  },
  {
   "cell_type": "code",
   "execution_count": 8,
   "id": "b8f125fa",
   "metadata": {
    "execution": {
     "iopub.execute_input": "2023-04-15T11:52:14.856771Z",
     "iopub.status.busy": "2023-04-15T11:52:14.855868Z",
     "iopub.status.idle": "2023-04-15T11:52:14.862404Z",
     "shell.execute_reply": "2023-04-15T11:52:14.861414Z"
    },
    "papermill": {
     "duration": 0.018844,
     "end_time": "2023-04-15T11:52:14.864570",
     "exception": false,
     "start_time": "2023-04-15T11:52:14.845726",
     "status": "completed"
    },
    "tags": []
   },
   "outputs": [
    {
     "data": {
      "text/plain": [
       "tensorflow.python.data.ops.dataset_ops.ParallelMapDataset"
      ]
     },
     "execution_count": 8,
     "metadata": {},
     "output_type": "execute_result"
    }
   ],
   "source": [
    "type(train_dataset)"
   ]
  },
  {
   "cell_type": "code",
   "execution_count": 9,
   "id": "008b5583",
   "metadata": {
    "execution": {
     "iopub.execute_input": "2023-04-15T11:52:14.885725Z",
     "iopub.status.busy": "2023-04-15T11:52:14.884930Z",
     "iopub.status.idle": "2023-04-15T11:52:14.891701Z",
     "shell.execute_reply": "2023-04-15T11:52:14.890740Z"
    },
    "papermill": {
     "duration": 0.019144,
     "end_time": "2023-04-15T11:52:14.893780",
     "exception": false,
     "start_time": "2023-04-15T11:52:14.874636",
     "status": "completed"
    },
    "tags": []
   },
   "outputs": [],
   "source": [
    "OUTPUT_CHANNELS = 3\n",
    "def downsample(filters, size, apply_batchnorm=True):\n",
    "    initializer = tf.random_normal_initializer(0., 0.02)\n",
    "\n",
    "    result = tf.keras.Sequential()\n",
    "    result.add(\n",
    "      tf.keras.layers.Conv2D(filters, size, strides=2, padding='same',\n",
    "                             kernel_initializer=initializer, use_bias=False))\n",
    "\n",
    "    if apply_batchnorm:\n",
    "        result.add(tf.keras.layers.BatchNormalization())\n",
    "\n",
    "    result.add(tf.keras.layers.LeakyReLU())\n",
    "\n",
    "    return result"
   ]
  },
  {
   "cell_type": "code",
   "execution_count": 10,
   "id": "b0df3cc7",
   "metadata": {
    "execution": {
     "iopub.execute_input": "2023-04-15T11:52:14.913781Z",
     "iopub.status.busy": "2023-04-15T11:52:14.912933Z",
     "iopub.status.idle": "2023-04-15T11:52:14.919647Z",
     "shell.execute_reply": "2023-04-15T11:52:14.918779Z"
    },
    "papermill": {
     "duration": 0.018897,
     "end_time": "2023-04-15T11:52:14.921895",
     "exception": false,
     "start_time": "2023-04-15T11:52:14.902998",
     "status": "completed"
    },
    "tags": []
   },
   "outputs": [],
   "source": [
    "def upsample(filters, size, apply_dropout=False):\n",
    "    initializer = tf.random_normal_initializer(0., 0.02)\n",
    "\n",
    "    result = tf.keras.Sequential()\n",
    "    result.add(\n",
    "    tf.keras.layers.Conv2DTranspose(filters, size, strides=2,\n",
    "                                    padding='same',\n",
    "                                    kernel_initializer=initializer,\n",
    "                                    use_bias=False))\n",
    "\n",
    "    result.add(tf.keras.layers.BatchNormalization())\n",
    "\n",
    "    if apply_dropout:\n",
    "        result.add(tf.keras.layers.Dropout(0.5))\n",
    "\n",
    "    result.add(tf.keras.layers.ReLU())\n",
    "\n",
    "    return result\n"
   ]
  },
  {
   "cell_type": "code",
   "execution_count": 11,
   "id": "b2f882ec",
   "metadata": {
    "execution": {
     "iopub.execute_input": "2023-04-15T11:52:14.942509Z",
     "iopub.status.busy": "2023-04-15T11:52:14.941702Z",
     "iopub.status.idle": "2023-04-15T11:52:14.951795Z",
     "shell.execute_reply": "2023-04-15T11:52:14.950917Z"
    },
    "papermill": {
     "duration": 0.022965,
     "end_time": "2023-04-15T11:52:14.953922",
     "exception": false,
     "start_time": "2023-04-15T11:52:14.930957",
     "status": "completed"
    },
    "tags": []
   },
   "outputs": [],
   "source": [
    "def Generator():\n",
    "    inputs = tf.keras.layers.Input(shape=[256, 256, 3])\n",
    "\n",
    "    down_stack = [\n",
    "    downsample(64, 4, apply_batchnorm=False),  # (batch_size, 128, 128, 64)\n",
    "    downsample(128, 4),  # (batch_size, 64, 64, 128)\n",
    "    downsample(256, 4),  # (batch_size, 32, 32, 256)\n",
    "    downsample(512, 4),  # (batch_size, 16, 16, 512)\n",
    "    downsample(512, 4),  # (batch_size, 8, 8, 512)\n",
    "    downsample(512, 4),  # (batch_size, 4, 4, 512)\n",
    "    downsample(512, 4),  # (batch_size, 2, 2, 512)\n",
    "    downsample(512, 4),  # (batch_size, 1, 1, 512)\n",
    "    ]\n",
    "\n",
    "    up_stack = [\n",
    "    upsample(512, 4, apply_dropout=True),  # (batch_size, 2, 2, 1024)\n",
    "    upsample(512, 4, apply_dropout=True),  # (batch_size, 4, 4, 1024)\n",
    "    upsample(512, 4, apply_dropout=True),  # (batch_size, 8, 8, 1024)\n",
    "    upsample(512, 4),  # (batch_size, 16, 16, 1024)\n",
    "    upsample(256, 4),  # (batch_size, 32, 32, 512)\n",
    "    upsample(128, 4),  # (batch_size, 64, 64, 256)\n",
    "    upsample(64, 4),  # (batch_size, 128, 128, 128)\n",
    "    ]\n",
    "\n",
    "    initializer = tf.random_normal_initializer(0., 0.02)\n",
    "    last = tf.keras.layers.Conv2DTranspose(OUTPUT_CHANNELS, 4,\n",
    "                                         strides=2,\n",
    "                                         padding='same',\n",
    "                                         kernel_initializer=initializer,\n",
    "                                         activation='tanh')  # (batch_size, 256, 256, 3)\n",
    "\n",
    "    x = inputs\n",
    "\n",
    "    # Downsampling through the model\n",
    "    skips = []\n",
    "    for down in down_stack:\n",
    "        x = down(x)\n",
    "        skips.append(x)\n",
    "\n",
    "    skips = reversed(skips[:-1])\n",
    "\n",
    "    # Upsampling and establishing the skip connections\n",
    "    for up, skip in zip(up_stack, skips):\n",
    "        x = up(x)\n",
    "        x = tf.keras.layers.Concatenate()([x, skip])\n",
    "\n",
    "    x = last(x)\n",
    "\n",
    "    return tf.keras.Model(inputs=inputs, outputs=x)\n"
   ]
  },
  {
   "cell_type": "code",
   "execution_count": 12,
   "id": "5b9f4911",
   "metadata": {
    "execution": {
     "iopub.execute_input": "2023-04-15T11:52:14.992218Z",
     "iopub.status.busy": "2023-04-15T11:52:14.991749Z",
     "iopub.status.idle": "2023-04-15T11:52:16.183713Z",
     "shell.execute_reply": "2023-04-15T11:52:16.182385Z"
    },
    "papermill": {
     "duration": 1.219383,
     "end_time": "2023-04-15T11:52:16.187558",
     "exception": false,
     "start_time": "2023-04-15T11:52:14.968175",
     "status": "completed"
    },
    "tags": []
   },
   "outputs": [
    {
     "data": {
      "image/png": "[encoded data removed]",
      "text/plain": [
       "<IPython.core.display.Image object>"
      ]
     },
     "execution_count": 12,
     "metadata": {},
     "output_type": "execute_result"
    }
   ],
   "source": [
    "generator = Generator()\n",
    "tf.keras.utils.plot_model(generator, show_shapes=True, dpi=64)\n"
   ]
  },
  {
   "cell_type": "code",
   "execution_count": 13,
   "id": "0f7e6095",
   "metadata": {
    "execution": {
     "iopub.execute_input": "2023-04-15T11:52:16.214231Z",
     "iopub.status.busy": "2023-04-15T11:52:16.213877Z",
     "iopub.status.idle": "2023-04-15T11:52:16.224652Z",
     "shell.execute_reply": "2023-04-15T11:52:16.223660Z"
    },
    "papermill": {
     "duration": 0.02705,
     "end_time": "2023-04-15T11:52:16.226801",
     "exception": false,
     "start_time": "2023-04-15T11:52:16.199751",
     "status": "completed"
    },
    "tags": []
   },
   "outputs": [],
   "source": [
    "def Discriminator():\n",
    "    initializer = tf.random_normal_initializer(0., 0.02)\n",
    "\n",
    "    inp = tf.keras.layers.Input(shape=[256, 256, 3], name='input_image')\n",
    "    tar = tf.keras.layers.Input(shape=[256, 256, 3], name='target_image')\n",
    "\n",
    "    x = tf.keras.layers.concatenate([inp, tar])  # (batch_size, 256, 256, channels*2)\n",
    "\n",
    "    down1 = downsample(64, 4, False)(x)  # (batch_size, 128, 128, 64)\n",
    "    down2 = downsample(128, 4)(down1)  # (batch_size, 64, 64, 128)\n",
    "    down3 = downsample(256, 4)(down2)  # (batch_size, 32, 32, 256)\n",
    "\n",
    "    zero_pad1 = tf.keras.layers.ZeroPadding2D()(down3)  # (batch_size, 34, 34, 256)\n",
    "    conv = tf.keras.layers.Conv2D(512, 4, strides=1,\n",
    "                                kernel_initializer=initializer,\n",
    "                                use_bias=False)(zero_pad1)  # (batch_size, 31, 31, 512)\n",
    "\n",
    "    batchnorm1 = tf.keras.layers.BatchNormalization()(conv)\n",
    "\n",
    "    leaky_relu = tf.keras.layers.LeakyReLU()(batchnorm1)\n",
    "\n",
    "    zero_pad2 = tf.keras.layers.ZeroPadding2D()(leaky_relu)  # (batch_size, 33, 33, 512)\n",
    "\n",
    "    last = tf.keras.layers.Conv2D(1, 4, strides=1,\n",
    "                                kernel_initializer=initializer)(zero_pad2)  # (batch_size, 30, 30, 1)\n",
    "\n",
    "    return tf.keras.Model(inputs=[inp, tar], outputs=last)\n"
   ]
  },
  {
   "cell_type": "code",
   "execution_count": 14,
   "id": "7c353acf",
   "metadata": {
    "execution": {
     "iopub.execute_input": "2023-04-15T11:52:16.251810Z",
     "iopub.status.busy": "2023-04-15T11:52:16.251525Z",
     "iopub.status.idle": "2023-04-15T11:52:16.540734Z",
     "shell.execute_reply": "2023-04-15T11:52:16.539416Z"
    },
    "papermill": {
     "duration": 0.304743,
     "end_time": "2023-04-15T11:52:16.543270",
     "exception": false,
     "start_time": "2023-04-15T11:52:16.238527",
     "status": "completed"
    },
    "tags": []
   },
   "outputs": [
    {
     "data": {
      "image/png": "[encoded data removed]",
      "text/plain": [
       "<IPython.core.display.Image object>"
      ]
     },
     "execution_count": 14,
     "metadata": {},
     "output_type": "execute_result"
    }
   ],
   "source": [
    "discriminator = Discriminator()\n",
    "tf.keras.utils.plot_model(discriminator, show_shapes=True, dpi=64)"
   ]
  },
  {
   "cell_type": "code",
   "execution_count": 15,
   "id": "5f2905c7",
   "metadata": {
    "execution": {
     "iopub.execute_input": "2023-04-15T11:52:16.572362Z",
     "iopub.status.busy": "2023-04-15T11:52:16.570571Z",
     "iopub.status.idle": "2023-04-15T11:52:16.577132Z",
     "shell.execute_reply": "2023-04-15T11:52:16.576194Z"
    },
    "papermill": {
     "duration": 0.022894,
     "end_time": "2023-04-15T11:52:16.579273",
     "exception": false,
     "start_time": "2023-04-15T11:52:16.556379",
     "status": "completed"
    },
    "tags": []
   },
   "outputs": [],
   "source": [
    "def discriminator_loss(disc_real_output, disc_generated_output):\n",
    "    real_loss = loss_object(tf.ones_like(disc_real_output), disc_real_output)\n",
    "\n",
    "    generated_loss = loss_object(tf.zeros_like(disc_generated_output), disc_generated_output)\n",
    "\n",
    "    total_disc_loss = real_loss + generated_loss\n",
    "\n",
    "    return total_disc_loss\n"
   ]
  },
  {
   "cell_type": "code",
   "execution_count": 16,
   "id": "ddc690eb",
   "metadata": {
    "execution": {
     "iopub.execute_input": "2023-04-15T11:52:16.606447Z",
     "iopub.status.busy": "2023-04-15T11:52:16.605601Z",
     "iopub.status.idle": "2023-04-15T11:52:16.617292Z",
     "shell.execute_reply": "2023-04-15T11:52:16.616398Z"
    },
    "papermill": {
     "duration": 0.027493,
     "end_time": "2023-04-15T11:52:16.619633",
     "exception": false,
     "start_time": "2023-04-15T11:52:16.592140",
     "status": "completed"
    },
    "tags": []
   },
   "outputs": [],
   "source": [
    "generator_optimizer = tf.keras.optimizers.Adam(2e-4, beta_1=0.5)\n",
    "discriminator_optimizer = tf.keras.optimizers.Adam(2e-4, beta_1=0.5)\n"
   ]
  },
  {
   "cell_type": "code",
   "execution_count": 17,
   "id": "d692aaab",
   "metadata": {
    "execution": {
     "iopub.execute_input": "2023-04-15T11:52:16.647378Z",
     "iopub.status.busy": "2023-04-15T11:52:16.646541Z",
     "iopub.status.idle": "2023-04-15T11:52:16.652232Z",
     "shell.execute_reply": "2023-04-15T11:52:16.651318Z"
    },
    "papermill": {
     "duration": 0.021801,
     "end_time": "2023-04-15T11:52:16.654483",
     "exception": false,
     "start_time": "2023-04-15T11:52:16.632682",
     "status": "completed"
    },
    "tags": []
   },
   "outputs": [],
   "source": [
    "checkpoint = tf.train.Checkpoint(generator_optimizer=generator_optimizer,\n",
    "                                 discriminator_optimizer=discriminator_optimizer,\n",
    "                                 generator=generator,\n",
    "                                 discriminator=discriminator)"
   ]
  },
  {
   "cell_type": "code",
   "execution_count": 18,
   "id": "844f3cfb",
   "metadata": {
    "execution": {
     "iopub.execute_input": "2023-04-15T11:52:16.682145Z",
     "iopub.status.busy": "2023-04-15T11:52:16.681226Z",
     "iopub.status.idle": "2023-04-15T11:52:16.686838Z",
     "shell.execute_reply": "2023-04-15T11:52:16.685965Z"
    },
    "papermill": {
     "duration": 0.021849,
     "end_time": "2023-04-15T11:52:16.688961",
     "exception": false,
     "start_time": "2023-04-15T11:52:16.667112",
     "status": "completed"
    },
    "tags": []
   },
   "outputs": [],
   "source": [
    "def generate_images(model, test_input, tar):\n",
    "    prediction = model(test_input, training=True)\n",
    "#     plt.figure(figsize=(15, 15))\n",
    "\n",
    "#     display_list = [test_input[0], tar[0], prediction[0]]\n",
    "#     title = ['Input Image', 'Ground Truth', 'Predicted Image']\n",
    "\n",
    "#     for i in range(3):\n",
    "#         plt.subplot(1, 3, i+1)\n",
    "#         plt.title(title[i])\n",
    "#         # Getting the pixel values in the [0, 1] range to plot.\n",
    "#         plt.imshow(display_list[i] * 0.5 + 0.5)\n",
    "#         plt.axis('off')\n",
    "#     plt.show()\n",
    "    return prediction[0]\n"
   ]
  },
  {
   "cell_type": "code",
   "execution_count": 19,
   "id": "7992bad1",
   "metadata": {
    "execution": {
     "iopub.execute_input": "2023-04-15T11:52:16.715657Z",
     "iopub.status.busy": "2023-04-15T11:52:16.715361Z",
     "iopub.status.idle": "2023-04-15T11:52:21.631651Z",
     "shell.execute_reply": "2023-04-15T11:52:21.630513Z"
    },
    "papermill": {
     "duration": 4.932727,
     "end_time": "2023-04-15T11:52:21.634388",
     "exception": false,
     "start_time": "2023-04-15T11:52:16.701661",
     "status": "completed"
    },
    "tags": []
   },
   "outputs": [
    {
     "name": "stdout",
     "output_type": "stream",
     "text": [
      "(1, 256, 256, 3)\n",
      "<class 'tensorflow.python.framework.ops.EagerTensor'>\n"
     ]
    }
   ],
   "source": [
    "for example_input, example_target in train_dataset.take(1):\n",
    "    print(example_input.shape)\n",
    "    print(type(example_input))\n",
    "    generate_images(generator, example_input, example_target)\n"
   ]
  },
  {
   "cell_type": "code",
   "execution_count": 20,
   "id": "ca14ce9f",
   "metadata": {
    "execution": {
     "iopub.execute_input": "2023-04-15T11:52:21.662264Z",
     "iopub.status.busy": "2023-04-15T11:52:21.661936Z",
     "iopub.status.idle": "2023-04-15T11:52:21.671624Z",
     "shell.execute_reply": "2023-04-15T11:52:21.670421Z"
    },
    "papermill": {
     "duration": 0.026288,
     "end_time": "2023-04-15T11:52:21.673844",
     "exception": false,
     "start_time": "2023-04-15T11:52:21.647556",
     "status": "completed"
    },
    "tags": []
   },
   "outputs": [],
   "source": [
    "@tf.function\n",
    "def train_step(input_image, target, step):\n",
    "    print(step)\n",
    "    with tf.GradientTape() as gen_tape, tf.GradientTape() as disc_tape:\n",
    "        \n",
    "        gen_output = generator(input_image, training=True)\n",
    "\n",
    "        disc_real_output = discriminator([input_image, target], training=True)\n",
    "        disc_generated_output = discriminator([input_image, gen_output], training=True)\n",
    "\n",
    "        gen_total_loss, gen_gan_loss, gen_l1_loss = generator_loss(disc_generated_output, gen_output, target)\n",
    "        disc_loss = discriminator_loss(disc_real_output, disc_generated_output)\n",
    "\n",
    "    generator_gradients = gen_tape.gradient(gen_total_loss,\n",
    "                                          generator.trainable_variables)\n",
    "    discriminator_gradients = disc_tape.gradient(disc_loss,\n",
    "                                               discriminator.trainable_variables)\n",
    "\n",
    "    generator_optimizer.apply_gradients(zip(generator_gradients,\n",
    "                                          generator.trainable_variables))\n",
    "    discriminator_optimizer.apply_gradients(zip(discriminator_gradients,\n",
    "                                              discriminator.trainable_variables))\n",
    "\n",
    "    with summary_writer.as_default():\n",
    "        tf.summary.scalar('gen_total_loss', gen_total_loss, step=step//1000)\n",
    "        tf.summary.scalar('gen_gan_loss', gen_gan_loss, step=step//1000)\n",
    "        tf.summary.scalar('gen_l1_loss', gen_l1_loss, step=step//1000)\n",
    "        tf.summary.scalar('disc_loss', disc_loss, step=step//1000)"
   ]
  },
  {
   "cell_type": "code",
   "execution_count": 21,
   "id": "eb6dc002",
   "metadata": {
    "execution": {
     "iopub.execute_input": "2023-04-15T11:52:21.700558Z",
     "iopub.status.busy": "2023-04-15T11:52:21.700218Z",
     "iopub.status.idle": "2023-04-15T11:52:21.706306Z",
     "shell.execute_reply": "2023-04-15T11:52:21.705400Z"
    },
    "papermill": {
     "duration": 0.02203,
     "end_time": "2023-04-15T11:52:21.708565",
     "exception": false,
     "start_time": "2023-04-15T11:52:21.686535",
     "status": "completed"
    },
    "tags": []
   },
   "outputs": [],
   "source": [
    "LAMBDA = 100"
   ]
  },
  {
   "cell_type": "code",
   "execution_count": 22,
   "id": "156a576f",
   "metadata": {
    "execution": {
     "iopub.execute_input": "2023-04-15T11:52:21.736075Z",
     "iopub.status.busy": "2023-04-15T11:52:21.735767Z",
     "iopub.status.idle": "2023-04-15T11:52:21.740286Z",
     "shell.execute_reply": "2023-04-15T11:52:21.739196Z"
    },
    "papermill": {
     "duration": 0.021625,
     "end_time": "2023-04-15T11:52:21.742996",
     "exception": false,
     "start_time": "2023-04-15T11:52:21.721371",
     "status": "completed"
    },
    "tags": []
   },
   "outputs": [],
   "source": [
    "loss_object = tf.keras.losses.BinaryCrossentropy(from_logits=True)"
   ]
  },
  {
   "cell_type": "code",
   "execution_count": 23,
   "id": "2959cfe6",
   "metadata": {
    "execution": {
     "iopub.execute_input": "2023-04-15T11:52:21.769021Z",
     "iopub.status.busy": "2023-04-15T11:52:21.768749Z",
     "iopub.status.idle": "2023-04-15T11:52:21.774225Z",
     "shell.execute_reply": "2023-04-15T11:52:21.773253Z"
    },
    "papermill": {
     "duration": 0.02096,
     "end_time": "2023-04-15T11:52:21.776338",
     "exception": false,
     "start_time": "2023-04-15T11:52:21.755378",
     "status": "completed"
    },
    "tags": []
   },
   "outputs": [],
   "source": [
    "def generator_loss(disc_generated_output, gen_output, target):\n",
    "    gan_loss = loss_object(tf.ones_like(disc_generated_output), disc_generated_output)\n",
    "\n",
    "    # Mean absolute error\n",
    "    l1_loss = tf.reduce_mean(tf.abs(target - gen_output))\n",
    "\n",
    "    total_gen_loss = gan_loss + (LAMBDA * l1_loss)\n",
    "\n",
    "    return total_gen_loss, gan_loss, l1_loss"
   ]
  },
  {
   "cell_type": "code",
   "execution_count": 24,
   "id": "caf53b86",
   "metadata": {
    "execution": {
     "iopub.execute_input": "2023-04-15T11:52:21.803081Z",
     "iopub.status.busy": "2023-04-15T11:52:21.802783Z",
     "iopub.status.idle": "2023-04-15T11:52:21.809871Z",
     "shell.execute_reply": "2023-04-15T11:52:21.808796Z"
    },
    "papermill": {
     "duration": 0.023544,
     "end_time": "2023-04-15T11:52:21.812535",
     "exception": false,
     "start_time": "2023-04-15T11:52:21.788991",
     "status": "completed"
    },
    "tags": []
   },
   "outputs": [],
   "source": [
    "def fit(train_ds, test_ds, steps):\n",
    "    example_input, example_target = next(iter(test_ds.take(1)))\n",
    "    start = time.time()\n",
    "\n",
    "    for step, (input_image, target) in train_ds.repeat().take(steps).enumerate():\n",
    "        if (step) % 1000 == 0:\n",
    "            display.clear_output(wait=True)\n",
    "\n",
    "            if step != 0:\n",
    "                print(f'Time taken for 1000 steps: {time.time()-start:.2f} sec\\n')\n",
    "\n",
    "            start = time.time()\n",
    "\n",
    "            generate_images(generator, example_input, example_target)\n",
    "            print(f\"Step: {step//1000}k\")\n",
    "        \n",
    "        train_step(input_image, target, step)\n",
    "\n",
    "        # Training step\n",
    "        if (step+1) % 10 == 0:\n",
    "            print('.', end='', flush=True)\n",
    "\n",
    "\n",
    "        # Save (checkpoint) the model every 5k steps\n",
    "#         if (step + 1) % 5000 == 0:\n",
    "#             checkpoint.save(file_prefix=checkpoint_prefix)"
   ]
  },
  {
   "cell_type": "code",
   "execution_count": 25,
   "id": "4b2fd163",
   "metadata": {
    "execution": {
     "iopub.execute_input": "2023-04-15T11:52:21.839925Z",
     "iopub.status.busy": "2023-04-15T11:52:21.838270Z",
     "iopub.status.idle": "2023-04-15T11:52:21.849724Z",
     "shell.execute_reply": "2023-04-15T11:52:21.848823Z"
    },
    "papermill": {
     "duration": 0.027039,
     "end_time": "2023-04-15T11:52:21.851980",
     "exception": false,
     "start_time": "2023-04-15T11:52:21.824941",
     "status": "completed"
    },
    "tags": []
   },
   "outputs": [],
   "source": [
    "log_dir=\"logs/\"\n",
    "import datetime\n",
    "summary_writer = tf.summary.create_file_writer(\n",
    "  log_dir + \"fit/\" + datetime.datetime.now().strftime(\"%Y%m%d-%H%M%S\"))\n",
    "\n",
    "import os"
   ]
  },
  {
   "cell_type": "code",
   "execution_count": 26,
   "id": "c45bfe7d",
   "metadata": {
    "execution": {
     "iopub.execute_input": "2023-04-15T11:52:21.878585Z",
     "iopub.status.busy": "2023-04-15T11:52:21.877808Z",
     "iopub.status.idle": "2023-04-15T11:52:21.883661Z",
     "shell.execute_reply": "2023-04-15T11:52:21.882725Z"
    },
    "papermill": {
     "duration": 0.021325,
     "end_time": "2023-04-15T11:52:21.885773",
     "exception": false,
     "start_time": "2023-04-15T11:52:21.864448",
     "status": "completed"
    },
    "tags": []
   },
   "outputs": [],
   "source": [
    "checkpoint_dir = './training_checkpoints'\n",
    "checkpoint_prefix = os.path.join(checkpoint_dir, \"ckpt\")\n",
    "checkpoint = tf.train.Checkpoint(generator_optimizer=generator_optimizer,\n",
    "                                 discriminator_optimizer=discriminator_optimizer,\n",
    "                                 generator=generator,\n",
    "                                 discriminator=discriminator)"
   ]
  },
  {
   "cell_type": "code",
   "execution_count": 27,
   "id": "537308a7",
   "metadata": {
    "execution": {
     "iopub.execute_input": "2023-04-15T11:52:21.913301Z",
     "iopub.status.busy": "2023-04-15T11:52:21.912290Z",
     "iopub.status.idle": "2023-04-15T14:05:51.450490Z",
     "shell.execute_reply": "2023-04-15T14:05:51.449304Z"
    },
    "papermill": {
     "duration": 8009.555059,
     "end_time": "2023-04-15T14:05:51.453227",
     "exception": false,
     "start_time": "2023-04-15T11:52:21.898168",
     "status": "completed"
    },
    "tags": []
   },
   "outputs": [
    {
     "name": "stdout",
     "output_type": "stream",
     "text": [
      "Time taken for 1000 steps: 52.89 sec\n",
      "\n",
      "Step: 149k\n",
      "...................................................................................................."
     ]
    }
   ],
   "source": [
    "import time\n",
    "import os\n",
    "import pathlib\n",
    "import time     \n",
    "import datetime\n",
    "\n",
    "from matplotlib import pyplot as plt\n",
    "from IPython import display\n",
    "from IPython.display import clear_output\n",
    "fit(train_dataset, val_dataset, steps=150000)"
   ]
  },
  {
   "cell_type": "code",
   "execution_count": 28,
   "id": "489f6df7",
   "metadata": {
    "execution": {
     "iopub.execute_input": "2023-04-15T14:05:51.492097Z",
     "iopub.status.busy": "2023-04-15T14:05:51.490444Z",
     "iopub.status.idle": "2023-04-15T14:05:51.497316Z",
     "shell.execute_reply": "2023-04-15T14:05:51.496387Z"
    },
    "papermill": {
     "duration": 0.028168,
     "end_time": "2023-04-15T14:05:51.499746",
     "exception": false,
     "start_time": "2023-04-15T14:05:51.471578",
     "status": "completed"
    },
    "tags": []
   },
   "outputs": [],
   "source": [
    "def read_test_data(filepath):\n",
    "    test_imgs_path = []\n",
    "    masked_info_path=[]\n",
    "    for filename in os.listdir(filepath):\n",
    "        final_path = filepath+'/'+filename\n",
    "        if filename != 'masked_info.csv':\n",
    "            test_imgs_path.append(final_path)\n",
    "        else:\n",
    "            masked_info_path.append(final_path)\n",
    "    return test_imgs_path,masked_info_path"
   ]
  },
  {
   "cell_type": "code",
   "execution_count": 29,
   "id": "90613d0c",
   "metadata": {
    "execution": {
     "iopub.execute_input": "2023-04-15T14:05:51.537135Z",
     "iopub.status.busy": "2023-04-15T14:05:51.536809Z",
     "iopub.status.idle": "2023-04-15T14:05:51.576300Z",
     "shell.execute_reply": "2023-04-15T14:05:51.575340Z"
    },
    "papermill": {
     "duration": 0.061029,
     "end_time": "2023-04-15T14:05:51.578527",
     "exception": false,
     "start_time": "2023-04-15T14:05:51.517498",
     "status": "completed"
    },
    "tags": []
   },
   "outputs": [],
   "source": [
    "test_filepath = '/kaggle/input/photo-reconstruction/Dataset/Testing_Data'\n",
    "test_imgs_path,masked_info_path = read_test_data(test_filepath)"
   ]
  },
  {
   "cell_type": "code",
   "execution_count": 30,
   "id": "5bf41250",
   "metadata": {
    "execution": {
     "iopub.execute_input": "2023-04-15T14:05:51.616948Z",
     "iopub.status.busy": "2023-04-15T14:05:51.616474Z",
     "iopub.status.idle": "2023-04-15T14:05:51.622043Z",
     "shell.execute_reply": "2023-04-15T14:05:51.621042Z"
    },
    "papermill": {
     "duration": 0.027367,
     "end_time": "2023-04-15T14:05:51.624165",
     "exception": false,
     "start_time": "2023-04-15T14:05:51.596798",
     "status": "completed"
    },
    "tags": []
   },
   "outputs": [
    {
     "name": "stdout",
     "output_type": "stream",
     "text": [
      "200\n"
     ]
    }
   ],
   "source": [
    "print(len(test_imgs_path))"
   ]
  },
  {
   "cell_type": "code",
   "execution_count": 31,
   "id": "b3e5c564",
   "metadata": {
    "execution": {
     "iopub.execute_input": "2023-04-15T14:05:51.662219Z",
     "iopub.status.busy": "2023-04-15T14:05:51.661228Z",
     "iopub.status.idle": "2023-04-15T14:05:51.668216Z",
     "shell.execute_reply": "2023-04-15T14:05:51.667140Z"
    },
    "papermill": {
     "duration": 0.028462,
     "end_time": "2023-04-15T14:05:51.670601",
     "exception": false,
     "start_time": "2023-04-15T14:05:51.642139",
     "status": "completed"
    },
    "tags": []
   },
   "outputs": [
    {
     "data": {
      "text/plain": [
       "'/kaggle/input/photo-reconstruction/Dataset/Testing_Data/Dog-Train (411).jpeg'"
      ]
     },
     "execution_count": 31,
     "metadata": {},
     "output_type": "execute_result"
    }
   ],
   "source": [
    "test_imgs_path[0]"
   ]
  },
  {
   "cell_type": "code",
   "execution_count": 32,
   "id": "114e9719",
   "metadata": {
    "execution": {
     "iopub.execute_input": "2023-04-15T14:05:51.708135Z",
     "iopub.status.busy": "2023-04-15T14:05:51.707258Z",
     "iopub.status.idle": "2023-04-15T14:05:51.713750Z",
     "shell.execute_reply": "2023-04-15T14:05:51.712831Z"
    },
    "papermill": {
     "duration": 0.027451,
     "end_time": "2023-04-15T14:05:51.715761",
     "exception": false,
     "start_time": "2023-04-15T14:05:51.688310",
     "status": "completed"
    },
    "tags": []
   },
   "outputs": [],
   "source": [
    "def give_images(paths):\n",
    "    images=[]\n",
    "    for path in paths:\n",
    "        img = Image.open(path)\n",
    "        rgb_pixels = np.array(img)\n",
    "        images.append((rgb_pixels - 127.5)/127.5)\n",
    "    return images"
   ]
  },
  {
   "cell_type": "code",
   "execution_count": 33,
   "id": "80d87493",
   "metadata": {
    "execution": {
     "iopub.execute_input": "2023-04-15T14:05:51.754290Z",
     "iopub.status.busy": "2023-04-15T14:05:51.752774Z",
     "iopub.status.idle": "2023-04-15T14:05:51.761133Z",
     "shell.execute_reply": "2023-04-15T14:05:51.760244Z"
    },
    "papermill": {
     "duration": 0.029374,
     "end_time": "2023-04-15T14:05:51.763250",
     "exception": false,
     "start_time": "2023-04-15T14:05:51.733876",
     "status": "completed"
    },
    "tags": []
   },
   "outputs": [
    {
     "data": {
      "text/plain": [
       "tensorflow.python.framework.ops.EagerTensor"
      ]
     },
     "execution_count": 33,
     "metadata": {},
     "output_type": "execute_result"
    }
   ],
   "source": [
    "type(example_input)"
   ]
  },
  {
   "cell_type": "code",
   "execution_count": 34,
   "id": "4e623456",
   "metadata": {
    "execution": {
     "iopub.execute_input": "2023-04-15T14:05:51.801732Z",
     "iopub.status.busy": "2023-04-15T14:05:51.800740Z",
     "iopub.status.idle": "2023-04-15T14:05:51.807732Z",
     "shell.execute_reply": "2023-04-15T14:05:51.806629Z"
    },
    "papermill": {
     "duration": 0.028947,
     "end_time": "2023-04-15T14:05:51.810237",
     "exception": false,
     "start_time": "2023-04-15T14:05:51.781290",
     "status": "completed"
    },
    "tags": []
   },
   "outputs": [
    {
     "data": {
      "text/plain": [
       "TensorShape([1, 256, 256, 3])"
      ]
     },
     "execution_count": 34,
     "metadata": {},
     "output_type": "execute_result"
    }
   ],
   "source": [
    "example_input.shape"
   ]
  },
  {
   "cell_type": "code",
   "execution_count": 35,
   "id": "97fb668f",
   "metadata": {
    "execution": {
     "iopub.execute_input": "2023-04-15T14:05:51.852369Z",
     "iopub.status.busy": "2023-04-15T14:05:51.851976Z",
     "iopub.status.idle": "2023-04-15T14:06:01.589119Z",
     "shell.execute_reply": "2023-04-15T14:06:01.587860Z"
    },
    "papermill": {
     "duration": 9.759814,
     "end_time": "2023-04-15T14:06:01.591837",
     "exception": false,
     "start_time": "2023-04-15T14:05:51.832023",
     "status": "completed"
    },
    "scrolled": true,
    "tags": []
   },
   "outputs": [
    {
     "name": "stdout",
     "output_type": "stream",
     "text": [
      "/kaggle/input/photo-reconstruction/Dataset/Testing_Data/Dog-Train (411).jpeg\n",
      "(1, 256, 256, 3)\n",
      "<class 'numpy.ndarray'>\n",
      "(256, 256, 3) ----\n",
      "(256, 256, 3)\n",
      "1\n",
      "/kaggle/input/photo-reconstruction/Dataset/Testing_Data/Cat-Train (923).jpeg\n",
      "(1, 256, 256, 3)\n",
      "<class 'numpy.ndarray'>\n",
      "(256, 256, 3) ----\n",
      "(256, 256, 3)\n",
      "2\n",
      "/kaggle/input/photo-reconstruction/Dataset/Testing_Data/Elephant-Train (1916).jpeg\n",
      "(1, 256, 256, 3)\n",
      "<class 'numpy.ndarray'>\n",
      "(256, 256, 3) ----\n",
      "(256, 256, 3)\n",
      "3\n",
      "/kaggle/input/photo-reconstruction/Dataset/Testing_Data/Elephant-Train (607).jpeg\n",
      "(1, 256, 256, 3)\n",
      "<class 'numpy.ndarray'>\n",
      "(256, 256, 3) ----\n",
      "(256, 256, 3)\n",
      "4\n",
      "/kaggle/input/photo-reconstruction/Dataset/Testing_Data/Tiger (1003).jpeg\n",
      "(1, 256, 256, 3)\n",
      "<class 'numpy.ndarray'>\n",
      "(256, 256, 3) ----\n",
      "(256, 256, 3)\n",
      "5\n",
      "/kaggle/input/photo-reconstruction/Dataset/Testing_Data/Elephant-Train (1195).jpeg\n",
      "(1, 256, 256, 3)\n",
      "<class 'numpy.ndarray'>\n",
      "(256, 256, 3) ----\n",
      "(256, 256, 3)\n",
      "6\n",
      "/kaggle/input/photo-reconstruction/Dataset/Testing_Data/Cat-Train (760).jpeg\n",
      "(1, 256, 256, 3)\n",
      "<class 'numpy.ndarray'>\n",
      "(256, 256, 3) ----\n",
      "(256, 256, 3)\n",
      "7\n",
      "/kaggle/input/photo-reconstruction/Dataset/Testing_Data/Cat-Train (156).jpeg\n",
      "(1, 256, 256, 3)\n",
      "<class 'numpy.ndarray'>\n",
      "(256, 256, 3) ----\n",
      "(256, 256, 3)\n",
      "8\n",
      "/kaggle/input/photo-reconstruction/Dataset/Testing_Data/Cat-Train (24).jpeg\n",
      "(1, 256, 256, 3)\n",
      "<class 'numpy.ndarray'>\n",
      "(256, 256, 3) ----\n",
      "(256, 256, 3)\n",
      "9\n",
      "/kaggle/input/photo-reconstruction/Dataset/Testing_Data/Dog-Train (703).jpeg\n",
      "(1, 256, 256, 3)\n",
      "<class 'numpy.ndarray'>\n",
      "(256, 256, 3) ----\n",
      "(256, 256, 3)\n",
      "10\n",
      "/kaggle/input/photo-reconstruction/Dataset/Testing_Data/Dog-Train (717).jpeg\n",
      "(1, 256, 256, 3)\n",
      "<class 'numpy.ndarray'>\n",
      "(256, 256, 3) ----\n",
      "(256, 256, 3)\n",
      "11\n",
      "/kaggle/input/photo-reconstruction/Dataset/Testing_Data/Dog-Train (565).jpeg\n",
      "(1, 256, 256, 3)\n",
      "<class 'numpy.ndarray'>\n",
      "(256, 256, 3) ----\n",
      "(256, 256, 3)\n",
      "12\n",
      "/kaggle/input/photo-reconstruction/Dataset/Testing_Data/Cat-Train (1209).jpeg\n",
      "(1, 256, 256, 3)\n",
      "<class 'numpy.ndarray'>\n",
      "(256, 256, 3) ----\n",
      "(256, 256, 3)\n",
      "13\n",
      "/kaggle/input/photo-reconstruction/Dataset/Testing_Data/Elephant-Train (895).jpeg\n",
      "(1, 256, 256, 3)\n",
      "<class 'numpy.ndarray'>\n",
      "(256, 256, 3) ----\n",
      "(256, 256, 3)\n",
      "14\n",
      "/kaggle/input/photo-reconstruction/Dataset/Testing_Data/Dog-Train (1731).jpeg\n",
      "(1, 256, 256, 3)\n",
      "<class 'numpy.ndarray'>\n",
      "(256, 256, 3) ----\n",
      "(256, 256, 3)\n",
      "15\n",
      "/kaggle/input/photo-reconstruction/Dataset/Testing_Data/Cat-Train (1657).jpeg\n",
      "(1, 256, 256, 3)\n",
      "<class 'numpy.ndarray'>\n",
      "(256, 256, 3) ----\n",
      "(256, 256, 3)\n",
      "16\n",
      "/kaggle/input/photo-reconstruction/Dataset/Testing_Data/Dog-Train (129).jpg\n",
      "(1, 256, 256, 3)\n",
      "<class 'numpy.ndarray'>\n",
      "(256, 256, 3) ----\n",
      "(256, 256, 3)\n",
      "17\n",
      "/kaggle/input/photo-reconstruction/Dataset/Testing_Data/Cat-Train (1374).jpeg\n",
      "(1, 256, 256, 3)\n",
      "<class 'numpy.ndarray'>\n",
      "(256, 256, 3) ----\n",
      "(256, 256, 3)\n",
      "18\n",
      "/kaggle/input/photo-reconstruction/Dataset/Testing_Data/Cat-Train (1576).jpeg\n",
      "(1, 256, 256, 3)\n",
      "<class 'numpy.ndarray'>\n",
      "(256, 256, 3) ----\n",
      "(256, 256, 3)\n",
      "19\n",
      "/kaggle/input/photo-reconstruction/Dataset/Testing_Data/Tiger (815).jpeg\n",
      "(1, 256, 256, 3)\n",
      "<class 'numpy.ndarray'>\n",
      "(256, 256, 3) ----\n",
      "(256, 256, 3)\n",
      "20\n",
      "/kaggle/input/photo-reconstruction/Dataset/Testing_Data/Dog-Train (1784).jpeg\n",
      "(1, 256, 256, 3)\n",
      "<class 'numpy.ndarray'>\n",
      "(256, 256, 3) ----\n",
      "(256, 256, 3)\n",
      "21\n",
      "/kaggle/input/photo-reconstruction/Dataset/Testing_Data/Elephant-Train (544).jpeg\n",
      "(1, 256, 256, 3)\n",
      "<class 'numpy.ndarray'>\n",
      "(256, 256, 3) ----\n",
      "(256, 256, 3)\n",
      "22\n",
      "/kaggle/input/photo-reconstruction/Dataset/Testing_Data/Tiger (564).jpeg\n",
      "(1, 256, 256, 3)\n",
      "<class 'numpy.ndarray'>\n",
      "(256, 256, 3) ----\n",
      "(256, 256, 3)\n",
      "23\n",
      "/kaggle/input/photo-reconstruction/Dataset/Testing_Data/Dog-Train (797).jpeg\n",
      "(1, 256, 256, 3)\n",
      "<class 'numpy.ndarray'>\n",
      "(256, 256, 3) ----\n",
      "(256, 256, 3)\n",
      "24\n",
      "/kaggle/input/photo-reconstruction/Dataset/Testing_Data/Cat-Train (1584).jpeg\n",
      "(1, 256, 256, 3)\n",
      "<class 'numpy.ndarray'>\n",
      "(256, 256, 3) ----\n",
      "(256, 256, 3)\n",
      "25\n",
      "/kaggle/input/photo-reconstruction/Dataset/Testing_Data/Elephant-Train (143).jpeg\n",
      "(1, 256, 256, 3)\n",
      "<class 'numpy.ndarray'>\n",
      "(256, 256, 3) ----\n",
      "(256, 256, 3)\n",
      "26\n",
      "/kaggle/input/photo-reconstruction/Dataset/Testing_Data/Cat-Train (167).jpeg\n",
      "(1, 256, 256, 3)\n",
      "<class 'numpy.ndarray'>\n",
      "(256, 256, 3) ----\n",
      "(256, 256, 3)\n",
      "27\n",
      "/kaggle/input/photo-reconstruction/Dataset/Testing_Data/Tiger (1037).jpeg\n",
      "(1, 256, 256, 3)\n",
      "<class 'numpy.ndarray'>\n",
      "(256, 256, 3) ----\n",
      "(256, 256, 3)\n",
      "28\n",
      "/kaggle/input/photo-reconstruction/Dataset/Testing_Data/Dog-Train (224).jpeg\n",
      "(1, 256, 256, 3)\n",
      "<class 'numpy.ndarray'>\n",
      "(256, 256, 3) ----\n",
      "(256, 256, 3)\n",
      "29\n",
      "/kaggle/input/photo-reconstruction/Dataset/Testing_Data/Elephant-Train (1908).jpeg\n",
      "(1, 256, 256, 3)\n",
      "<class 'numpy.ndarray'>\n",
      "(256, 256, 3) ----\n",
      "(256, 256, 3)\n",
      "30\n",
      "/kaggle/input/photo-reconstruction/Dataset/Testing_Data/Tiger (941).jpeg\n",
      "(1, 256, 256, 3)\n",
      "<class 'numpy.ndarray'>\n",
      "(256, 256, 3) ----\n",
      "(256, 256, 3)\n",
      "31\n",
      "/kaggle/input/photo-reconstruction/Dataset/Testing_Data/Dog-Train (429).jpeg\n",
      "(1, 256, 256, 3)\n",
      "<class 'numpy.ndarray'>\n",
      "(256, 256, 3) ----\n",
      "(256, 256, 3)\n",
      "32\n",
      "/kaggle/input/photo-reconstruction/Dataset/Testing_Data/Tiger (980).jpeg\n",
      "(1, 256, 256, 3)\n",
      "<class 'numpy.ndarray'>\n",
      "(256, 256, 3) ----\n",
      "(256, 256, 3)\n",
      "33\n",
      "/kaggle/input/photo-reconstruction/Dataset/Testing_Data/Elephant-Train (777).jpeg\n",
      "(1, 256, 256, 3)\n",
      "<class 'numpy.ndarray'>\n",
      "(256, 256, 3) ----\n",
      "(256, 256, 3)\n",
      "34\n",
      "/kaggle/input/photo-reconstruction/Dataset/Testing_Data/Elephant-Train (1356).jpeg\n",
      "(1, 256, 256, 3)\n",
      "<class 'numpy.ndarray'>\n",
      "(256, 256, 3) ----\n",
      "(256, 256, 3)\n",
      "35\n",
      "/kaggle/input/photo-reconstruction/Dataset/Testing_Data/Dog-Train (1694).jpeg\n",
      "(1, 256, 256, 3)\n",
      "<class 'numpy.ndarray'>\n",
      "(256, 256, 3) ----\n",
      "(256, 256, 3)\n",
      "36\n",
      "/kaggle/input/photo-reconstruction/Dataset/Testing_Data/Dog-Train (651).jpeg\n",
      "(1, 256, 256, 3)\n",
      "<class 'numpy.ndarray'>\n",
      "(256, 256, 3) ----\n",
      "(256, 256, 3)\n",
      "37\n",
      "/kaggle/input/photo-reconstruction/Dataset/Testing_Data/Elephant-Train (502).jpeg\n",
      "(1, 256, 256, 3)\n",
      "<class 'numpy.ndarray'>\n",
      "(256, 256, 3) ----\n",
      "(256, 256, 3)\n",
      "38\n",
      "/kaggle/input/photo-reconstruction/Dataset/Testing_Data/Elephant-Train (461).jpeg\n",
      "(1, 256, 256, 3)\n",
      "<class 'numpy.ndarray'>\n",
      "(256, 256, 3) ----\n",
      "(256, 256, 3)\n",
      "39\n",
      "/kaggle/input/photo-reconstruction/Dataset/Testing_Data/Elephant-Train (382).jpeg\n",
      "(1, 256, 256, 3)\n",
      "<class 'numpy.ndarray'>\n",
      "(256, 256, 3) ----\n",
      "(256, 256, 3)\n",
      "40\n",
      "/kaggle/input/photo-reconstruction/Dataset/Testing_Data/Tiger (459).jpeg\n",
      "(1, 256, 256, 3)\n",
      "<class 'numpy.ndarray'>\n",
      "(256, 256, 3) ----\n",
      "(256, 256, 3)\n",
      "41\n",
      "/kaggle/input/photo-reconstruction/Dataset/Testing_Data/Cat-Train (1).png\n",
      "(1, 256, 256, 3)\n",
      "<class 'numpy.ndarray'>\n",
      "(256, 256, 3) ----\n",
      "(256, 256, 3)\n",
      "42\n",
      "/kaggle/input/photo-reconstruction/Dataset/Testing_Data/Cat-Train (687).jpeg\n",
      "(1, 256, 256, 3)\n",
      "<class 'numpy.ndarray'>\n",
      "(256, 256, 3) ----\n",
      "(256, 256, 3)\n",
      "43\n",
      "/kaggle/input/photo-reconstruction/Dataset/Testing_Data/Cat-Train (1065).jpeg\n",
      "(1, 256, 256, 3)\n",
      "<class 'numpy.ndarray'>\n",
      "(256, 256, 3) ----\n",
      "(256, 256, 3)\n",
      "44\n",
      "/kaggle/input/photo-reconstruction/Dataset/Testing_Data/Cat-Train (24).jpg\n",
      "(1, 256, 256, 3)\n",
      "<class 'numpy.ndarray'>\n",
      "(256, 256, 3) ----\n",
      "(256, 256, 3)\n",
      "45\n",
      "/kaggle/input/photo-reconstruction/Dataset/Testing_Data/Dog-Train (151).jpeg\n",
      "(1, 256, 256, 3)\n",
      "<class 'numpy.ndarray'>\n",
      "(256, 256, 3) ----\n",
      "(256, 256, 3)\n",
      "46\n",
      "/kaggle/input/photo-reconstruction/Dataset/Testing_Data/Dog-Train (304).jpeg\n",
      "(1, 256, 256, 3)\n",
      "<class 'numpy.ndarray'>\n",
      "(256, 256, 3) ----\n",
      "(256, 256, 3)\n",
      "47\n",
      "/kaggle/input/photo-reconstruction/Dataset/Testing_Data/Tiger (613).jpeg\n",
      "(1, 256, 256, 3)\n",
      "<class 'numpy.ndarray'>\n",
      "(256, 256, 3) ----\n",
      "(256, 256, 3)\n",
      "48\n",
      "/kaggle/input/photo-reconstruction/Dataset/Testing_Data/Dog-Train (135).jpg\n",
      "(1, 256, 256, 3)\n",
      "<class 'numpy.ndarray'>\n",
      "(256, 256, 3) ----\n",
      "(256, 256, 3)\n",
      "49\n",
      "/kaggle/input/photo-reconstruction/Dataset/Testing_Data/Dog-Train (1008).jpeg\n",
      "(1, 256, 256, 3)\n",
      "<class 'numpy.ndarray'>\n",
      "(256, 256, 3) ----\n",
      "(256, 256, 3)\n",
      "50\n",
      "/kaggle/input/photo-reconstruction/Dataset/Testing_Data/Dog-Train (1681).jpeg\n",
      "(1, 256, 256, 3)\n",
      "<class 'numpy.ndarray'>\n",
      "(256, 256, 3) ----\n",
      "(256, 256, 3)\n",
      "51\n",
      "/kaggle/input/photo-reconstruction/Dataset/Testing_Data/Cat-Train (765).jpeg\n",
      "(1, 256, 256, 3)\n",
      "<class 'numpy.ndarray'>\n",
      "(256, 256, 3) ----\n",
      "(256, 256, 3)\n",
      "52\n",
      "/kaggle/input/photo-reconstruction/Dataset/Testing_Data/Tiger (651).jpeg\n",
      "(1, 256, 256, 3)\n",
      "<class 'numpy.ndarray'>\n",
      "(256, 256, 3) ----\n",
      "(256, 256, 3)\n",
      "53\n",
      "/kaggle/input/photo-reconstruction/Dataset/Testing_Data/Elephant-Train (558).jpeg\n",
      "(1, 256, 256, 3)\n",
      "<class 'numpy.ndarray'>\n",
      "(256, 256, 3) ----\n",
      "(256, 256, 3)\n",
      "54\n",
      "/kaggle/input/photo-reconstruction/Dataset/Testing_Data/Cat-Train (874).jpeg\n",
      "(1, 256, 256, 3)\n",
      "<class 'numpy.ndarray'>\n",
      "(256, 256, 3) ----\n",
      "(256, 256, 3)\n",
      "55\n",
      "/kaggle/input/photo-reconstruction/Dataset/Testing_Data/Tiger (2256).jpeg\n",
      "(1, 256, 256, 3)\n",
      "<class 'numpy.ndarray'>\n",
      "(256, 256, 3) ----\n",
      "(256, 256, 3)\n",
      "56\n",
      "/kaggle/input/photo-reconstruction/Dataset/Testing_Data/Elephant-Train (1139).jpeg\n",
      "(1, 256, 256, 3)\n",
      "<class 'numpy.ndarray'>\n",
      "(256, 256, 3) ----\n",
      "(256, 256, 3)\n",
      "57\n",
      "/kaggle/input/photo-reconstruction/Dataset/Testing_Data/Cat-Train (1784).jpeg\n",
      "(1, 256, 256, 3)\n",
      "<class 'numpy.ndarray'>\n",
      "(256, 256, 3) ----\n",
      "(256, 256, 3)\n",
      "58\n",
      "/kaggle/input/photo-reconstruction/Dataset/Testing_Data/Elephant-Train (1530).jpeg\n",
      "(1, 256, 256, 3)\n",
      "<class 'numpy.ndarray'>\n",
      "(256, 256, 3) ----\n",
      "(256, 256, 3)\n",
      "59\n",
      "/kaggle/input/photo-reconstruction/Dataset/Testing_Data/Tiger (826).jpeg\n",
      "(1, 256, 256, 3)\n",
      "<class 'numpy.ndarray'>\n",
      "(256, 256, 3) ----\n",
      "(256, 256, 3)\n",
      "60\n",
      "/kaggle/input/photo-reconstruction/Dataset/Testing_Data/Cat-Train (100).jpeg\n",
      "(1, 256, 256, 3)\n",
      "<class 'numpy.ndarray'>\n",
      "(256, 256, 3) ----\n",
      "(256, 256, 3)\n",
      "61\n",
      "/kaggle/input/photo-reconstruction/Dataset/Testing_Data/Tiger (1322).jpeg\n",
      "(1, 256, 256, 3)\n",
      "<class 'numpy.ndarray'>\n",
      "(256, 256, 3) ----\n",
      "(256, 256, 3)\n",
      "62\n",
      "/kaggle/input/photo-reconstruction/Dataset/Testing_Data/Elephant-Train (633).jpeg\n",
      "(1, 256, 256, 3)\n",
      "<class 'numpy.ndarray'>\n",
      "(256, 256, 3) ----\n",
      "(256, 256, 3)\n",
      "63\n",
      "/kaggle/input/photo-reconstruction/Dataset/Testing_Data/Cat-Train (297).jpeg\n",
      "(1, 256, 256, 3)\n",
      "<class 'numpy.ndarray'>\n",
      "(256, 256, 3) ----\n",
      "(256, 256, 3)\n",
      "64\n",
      "/kaggle/input/photo-reconstruction/Dataset/Testing_Data/Cat-Train (306).jpeg\n",
      "(1, 256, 256, 3)\n",
      "<class 'numpy.ndarray'>\n",
      "(256, 256, 3) ----\n",
      "(256, 256, 3)\n",
      "65\n",
      "/kaggle/input/photo-reconstruction/Dataset/Testing_Data/Tiger (2189).jpeg\n",
      "(1, 256, 256, 3)\n",
      "<class 'numpy.ndarray'>\n",
      "(256, 256, 3) ----\n",
      "(256, 256, 3)\n",
      "66\n",
      "/kaggle/input/photo-reconstruction/Dataset/Testing_Data/Tiger (1503).jpeg\n",
      "(1, 256, 256, 3)\n",
      "<class 'numpy.ndarray'>\n",
      "(256, 256, 3) ----\n",
      "(256, 256, 3)\n",
      "67\n",
      "/kaggle/input/photo-reconstruction/Dataset/Testing_Data/Tiger (1353).jpeg\n",
      "(1, 256, 256, 3)\n",
      "<class 'numpy.ndarray'>\n",
      "(256, 256, 3) ----\n",
      "(256, 256, 3)\n",
      "68\n",
      "/kaggle/input/photo-reconstruction/Dataset/Testing_Data/Cat-Train (1535).jpeg\n",
      "(1, 256, 256, 3)\n",
      "<class 'numpy.ndarray'>\n",
      "(256, 256, 3) ----\n",
      "(256, 256, 3)\n",
      "69\n",
      "/kaggle/input/photo-reconstruction/Dataset/Testing_Data/Dog-Train (333).jpeg\n",
      "(1, 256, 256, 3)\n",
      "<class 'numpy.ndarray'>\n",
      "(256, 256, 3) ----\n",
      "(256, 256, 3)\n",
      "70\n",
      "/kaggle/input/photo-reconstruction/Dataset/Testing_Data/Dog-Train (1129).jpeg\n",
      "(1, 256, 256, 3)\n",
      "<class 'numpy.ndarray'>\n",
      "(256, 256, 3) ----\n",
      "(256, 256, 3)\n",
      "71\n",
      "/kaggle/input/photo-reconstruction/Dataset/Testing_Data/Cat-Train (1547).jpeg\n",
      "(1, 256, 256, 3)\n",
      "<class 'numpy.ndarray'>\n",
      "(256, 256, 3) ----\n",
      "(256, 256, 3)\n",
      "72\n",
      "/kaggle/input/photo-reconstruction/Dataset/Testing_Data/Cat-Train (887).jpeg\n",
      "(1, 256, 256, 3)\n",
      "<class 'numpy.ndarray'>\n",
      "(256, 256, 3) ----\n",
      "(256, 256, 3)\n",
      "73\n",
      "/kaggle/input/photo-reconstruction/Dataset/Testing_Data/Elephant-Train (879).jpeg\n",
      "(1, 256, 256, 3)\n",
      "<class 'numpy.ndarray'>\n",
      "(256, 256, 3) ----\n",
      "(256, 256, 3)\n",
      "74\n",
      "/kaggle/input/photo-reconstruction/Dataset/Testing_Data/Elephant-Train (686).jpeg\n",
      "(1, 256, 256, 3)\n",
      "<class 'numpy.ndarray'>\n",
      "(256, 256, 3) ----\n",
      "(256, 256, 3)\n",
      "75\n",
      "/kaggle/input/photo-reconstruction/Dataset/Testing_Data/Tiger (1393).jpeg\n",
      "(1, 256, 256, 3)\n",
      "<class 'numpy.ndarray'>\n",
      "(256, 256, 3) ----\n",
      "(256, 256, 3)\n",
      "76\n",
      "/kaggle/input/photo-reconstruction/Dataset/Testing_Data/Elephant-Train (1258).jpeg\n",
      "(1, 256, 256, 3)\n",
      "<class 'numpy.ndarray'>\n",
      "(256, 256, 3) ----\n",
      "(256, 256, 3)\n",
      "77\n",
      "/kaggle/input/photo-reconstruction/Dataset/Testing_Data/Elephant-Train (939).jpeg\n",
      "(1, 256, 256, 3)\n",
      "<class 'numpy.ndarray'>\n",
      "(256, 256, 3) ----\n",
      "(256, 256, 3)\n",
      "78\n",
      "/kaggle/input/photo-reconstruction/Dataset/Testing_Data/Tiger (2016).jpeg\n",
      "(1, 256, 256, 3)\n",
      "<class 'numpy.ndarray'>\n",
      "(256, 256, 3) ----\n",
      "(256, 256, 3)\n",
      "79\n",
      "/kaggle/input/photo-reconstruction/Dataset/Testing_Data/Tiger (2065).jpeg\n",
      "(1, 256, 256, 3)\n",
      "<class 'numpy.ndarray'>\n",
      "(256, 256, 3) ----\n",
      "(256, 256, 3)\n",
      "80\n",
      "/kaggle/input/photo-reconstruction/Dataset/Testing_Data/Dog-Train (1172).jpeg\n",
      "(1, 256, 256, 3)\n",
      "<class 'numpy.ndarray'>\n",
      "(256, 256, 3) ----\n",
      "(256, 256, 3)\n",
      "81\n",
      "/kaggle/input/photo-reconstruction/Dataset/Testing_Data/Tiger (1851).jpeg\n",
      "(1, 256, 256, 3)\n",
      "<class 'numpy.ndarray'>\n",
      "(256, 256, 3) ----\n",
      "(256, 256, 3)\n",
      "82\n",
      "/kaggle/input/photo-reconstruction/Dataset/Testing_Data/Dog-Train (560).jpeg\n",
      "(1, 256, 256, 3)\n",
      "<class 'numpy.ndarray'>\n",
      "(256, 256, 3) ----\n",
      "(256, 256, 3)\n",
      "83\n",
      "/kaggle/input/photo-reconstruction/Dataset/Testing_Data/Elephant-Train (1001).jpeg\n",
      "(1, 256, 256, 3)\n",
      "<class 'numpy.ndarray'>\n",
      "(256, 256, 3) ----\n",
      "(256, 256, 3)\n",
      "84\n",
      "/kaggle/input/photo-reconstruction/Dataset/Testing_Data/Dog-Train (42).jpg\n",
      "(1, 256, 256, 3)\n",
      "<class 'numpy.ndarray'>\n",
      "(256, 256, 3) ----\n",
      "(256, 256, 3)\n",
      "85\n",
      "/kaggle/input/photo-reconstruction/Dataset/Testing_Data/Tiger (2223).jpeg\n",
      "(1, 256, 256, 3)\n",
      "<class 'numpy.ndarray'>\n",
      "(256, 256, 3) ----\n",
      "(256, 256, 3)\n",
      "86\n",
      "/kaggle/input/photo-reconstruction/Dataset/Testing_Data/Tiger (1014).jpeg\n",
      "(1, 256, 256, 3)\n",
      "<class 'numpy.ndarray'>\n",
      "(256, 256, 3) ----\n",
      "(256, 256, 3)\n",
      "87\n",
      "/kaggle/input/photo-reconstruction/Dataset/Testing_Data/Elephant-Train (399).jpeg\n",
      "(1, 256, 256, 3)\n",
      "<class 'numpy.ndarray'>\n",
      "(256, 256, 3) ----\n",
      "(256, 256, 3)\n",
      "88\n",
      "/kaggle/input/photo-reconstruction/Dataset/Testing_Data/Elephant-Train (492).jpeg\n",
      "(1, 256, 256, 3)\n",
      "<class 'numpy.ndarray'>\n",
      "(256, 256, 3) ----\n",
      "(256, 256, 3)\n",
      "89\n",
      "/kaggle/input/photo-reconstruction/Dataset/Testing_Data/Tiger (615).jpeg\n",
      "(1, 256, 256, 3)\n",
      "<class 'numpy.ndarray'>\n",
      "(256, 256, 3) ----\n",
      "(256, 256, 3)\n",
      "90\n",
      "/kaggle/input/photo-reconstruction/Dataset/Testing_Data/Tiger (740).jpeg\n",
      "(1, 256, 256, 3)\n",
      "<class 'numpy.ndarray'>\n",
      "(256, 256, 3) ----\n",
      "(256, 256, 3)\n",
      "91\n",
      "/kaggle/input/photo-reconstruction/Dataset/Testing_Data/Elephant-Train (318).jpeg\n",
      "(1, 256, 256, 3)\n",
      "<class 'numpy.ndarray'>\n",
      "(256, 256, 3) ----\n",
      "(256, 256, 3)\n",
      "92\n",
      "/kaggle/input/photo-reconstruction/Dataset/Testing_Data/Dog-Train (1546).jpeg\n",
      "(1, 256, 256, 3)\n",
      "<class 'numpy.ndarray'>\n",
      "(256, 256, 3) ----\n",
      "(256, 256, 3)\n",
      "93\n",
      "/kaggle/input/photo-reconstruction/Dataset/Testing_Data/Elephant-Train (584).jpeg\n",
      "(1, 256, 256, 3)\n",
      "<class 'numpy.ndarray'>\n",
      "(256, 256, 3) ----\n",
      "(256, 256, 3)\n",
      "94\n",
      "/kaggle/input/photo-reconstruction/Dataset/Testing_Data/Cat-Train (1253).jpeg\n",
      "(1, 256, 256, 3)\n",
      "<class 'numpy.ndarray'>\n",
      "(256, 256, 3) ----\n",
      "(256, 256, 3)\n",
      "95\n",
      "/kaggle/input/photo-reconstruction/Dataset/Testing_Data/Dog-Train (1631).jpeg\n",
      "(1, 256, 256, 3)\n",
      "<class 'numpy.ndarray'>\n",
      "(256, 256, 3) ----\n",
      "(256, 256, 3)\n",
      "96\n",
      "/kaggle/input/photo-reconstruction/Dataset/Testing_Data/Cat-Train (1258).jpeg\n",
      "(1, 256, 256, 3)\n",
      "<class 'numpy.ndarray'>\n",
      "(256, 256, 3) ----\n",
      "(256, 256, 3)\n",
      "97\n",
      "/kaggle/input/photo-reconstruction/Dataset/Testing_Data/Tiger (755).jpeg\n",
      "(1, 256, 256, 3)\n",
      "<class 'numpy.ndarray'>\n",
      "(256, 256, 3) ----\n",
      "(256, 256, 3)\n",
      "98\n",
      "/kaggle/input/photo-reconstruction/Dataset/Testing_Data/Elephant-Train (1088).jpeg\n",
      "(1, 256, 256, 3)\n",
      "<class 'numpy.ndarray'>\n",
      "(256, 256, 3) ----\n",
      "(256, 256, 3)\n",
      "99\n",
      "/kaggle/input/photo-reconstruction/Dataset/Testing_Data/Elephant-Train (40).jpeg\n",
      "(1, 256, 256, 3)\n",
      "<class 'numpy.ndarray'>\n",
      "(256, 256, 3) ----\n",
      "(256, 256, 3)\n",
      "100\n",
      "/kaggle/input/photo-reconstruction/Dataset/Testing_Data/Cat-Train (315).jpeg\n",
      "(1, 256, 256, 3)\n",
      "<class 'numpy.ndarray'>\n",
      "(256, 256, 3) ----\n",
      "(256, 256, 3)\n",
      "101\n",
      "/kaggle/input/photo-reconstruction/Dataset/Testing_Data/Dog-Train (190).jpeg\n",
      "(1, 256, 256, 3)\n",
      "<class 'numpy.ndarray'>\n",
      "(256, 256, 3) ----\n",
      "(256, 256, 3)\n",
      "102\n",
      "/kaggle/input/photo-reconstruction/Dataset/Testing_Data/Cat-Train (860).jpeg\n",
      "(1, 256, 256, 3)\n",
      "<class 'numpy.ndarray'>\n",
      "(256, 256, 3) ----\n",
      "(256, 256, 3)\n",
      "103\n",
      "/kaggle/input/photo-reconstruction/Dataset/Testing_Data/Dog-Train (43).jpeg\n",
      "(1, 256, 256, 3)\n",
      "<class 'numpy.ndarray'>\n",
      "(256, 256, 3) ----\n",
      "(256, 256, 3)\n",
      "104\n",
      "/kaggle/input/photo-reconstruction/Dataset/Testing_Data/Cat-Train (1702).jpeg\n",
      "(1, 256, 256, 3)\n",
      "<class 'numpy.ndarray'>\n",
      "(256, 256, 3) ----\n",
      "(256, 256, 3)\n",
      "105\n",
      "/kaggle/input/photo-reconstruction/Dataset/Testing_Data/Cat-Train (1402).jpeg\n",
      "(1, 256, 256, 3)\n",
      "<class 'numpy.ndarray'>\n",
      "(256, 256, 3) ----\n",
      "(256, 256, 3)\n",
      "106\n",
      "/kaggle/input/photo-reconstruction/Dataset/Testing_Data/Elephant-Train (110).jpeg\n",
      "(1, 256, 256, 3)\n",
      "<class 'numpy.ndarray'>\n",
      "(256, 256, 3) ----\n",
      "(256, 256, 3)\n",
      "107\n",
      "/kaggle/input/photo-reconstruction/Dataset/Testing_Data/Tiger (1843).jpeg\n",
      "(1, 256, 256, 3)\n",
      "<class 'numpy.ndarray'>\n",
      "(256, 256, 3) ----\n",
      "(256, 256, 3)\n",
      "108\n",
      "/kaggle/input/photo-reconstruction/Dataset/Testing_Data/Cat-Train (740).jpeg\n",
      "(1, 256, 256, 3)\n",
      "<class 'numpy.ndarray'>\n",
      "(256, 256, 3) ----\n",
      "(256, 256, 3)\n",
      "109\n",
      "/kaggle/input/photo-reconstruction/Dataset/Testing_Data/Cat-Train (847).jpeg\n",
      "(1, 256, 256, 3)\n",
      "<class 'numpy.ndarray'>\n",
      "(256, 256, 3) ----\n",
      "(256, 256, 3)\n",
      "110\n",
      "/kaggle/input/photo-reconstruction/Dataset/Testing_Data/Cat-Train (1354).jpeg\n",
      "(1, 256, 256, 3)\n",
      "<class 'numpy.ndarray'>\n",
      "(256, 256, 3) ----\n",
      "(256, 256, 3)\n",
      "111\n",
      "/kaggle/input/photo-reconstruction/Dataset/Testing_Data/Dog-Train (1576).jpeg\n",
      "(1, 256, 256, 3)\n",
      "<class 'numpy.ndarray'>\n",
      "(256, 256, 3) ----\n",
      "(256, 256, 3)\n",
      "112\n",
      "/kaggle/input/photo-reconstruction/Dataset/Testing_Data/Elephant-Train (265).jpeg\n",
      "(1, 256, 256, 3)\n",
      "<class 'numpy.ndarray'>\n",
      "(256, 256, 3) ----\n",
      "(256, 256, 3)\n",
      "113\n",
      "/kaggle/input/photo-reconstruction/Dataset/Testing_Data/Elephant-Train (79).jpeg\n",
      "(1, 256, 256, 3)\n",
      "<class 'numpy.ndarray'>\n",
      "(256, 256, 3) ----\n",
      "(256, 256, 3)\n",
      "114\n",
      "/kaggle/input/photo-reconstruction/Dataset/Testing_Data/Tiger (1180).jpeg\n",
      "(1, 256, 256, 3)\n",
      "<class 'numpy.ndarray'>\n",
      "(256, 256, 3) ----\n",
      "(256, 256, 3)\n",
      "115\n",
      "/kaggle/input/photo-reconstruction/Dataset/Testing_Data/Cat-Train (891).jpeg\n",
      "(1, 256, 256, 3)\n",
      "<class 'numpy.ndarray'>\n",
      "(256, 256, 3) ----\n",
      "(256, 256, 3)\n",
      "116\n",
      "/kaggle/input/photo-reconstruction/Dataset/Testing_Data/Elephant-Train (216).jpeg\n",
      "(1, 256, 256, 3)\n",
      "<class 'numpy.ndarray'>\n",
      "(256, 256, 3) ----\n",
      "(256, 256, 3)\n",
      "117\n",
      "/kaggle/input/photo-reconstruction/Dataset/Testing_Data/Elephant-Train (64).jpeg\n",
      "(1, 256, 256, 3)\n",
      "<class 'numpy.ndarray'>\n",
      "(256, 256, 3) ----\n",
      "(256, 256, 3)\n",
      "118\n",
      "/kaggle/input/photo-reconstruction/Dataset/Testing_Data/Elephant-Train (1777).jpeg\n",
      "(1, 256, 256, 3)\n",
      "<class 'numpy.ndarray'>\n",
      "(256, 256, 3) ----\n",
      "(256, 256, 3)\n",
      "119\n",
      "/kaggle/input/photo-reconstruction/Dataset/Testing_Data/Dog-Train (729).jpeg\n",
      "(1, 256, 256, 3)\n",
      "<class 'numpy.ndarray'>\n",
      "(256, 256, 3) ----\n",
      "(256, 256, 3)\n",
      "120\n",
      "/kaggle/input/photo-reconstruction/Dataset/Testing_Data/Elephant-Train (1353).jpeg\n",
      "(1, 256, 256, 3)\n",
      "<class 'numpy.ndarray'>\n",
      "(256, 256, 3) ----\n",
      "(256, 256, 3)\n",
      "121\n",
      "/kaggle/input/photo-reconstruction/Dataset/Testing_Data/Dog-Train (726).jpeg\n",
      "(1, 256, 256, 3)\n",
      "<class 'numpy.ndarray'>\n",
      "(256, 256, 3) ----\n",
      "(256, 256, 3)\n",
      "122\n",
      "/kaggle/input/photo-reconstruction/Dataset/Testing_Data/Cat-Train (1110).jpeg\n",
      "(1, 256, 256, 3)\n",
      "<class 'numpy.ndarray'>\n",
      "(256, 256, 3) ----\n",
      "(256, 256, 3)\n",
      "123\n",
      "/kaggle/input/photo-reconstruction/Dataset/Testing_Data/Dog-Train (209).jpeg\n",
      "(1, 256, 256, 3)\n",
      "<class 'numpy.ndarray'>\n",
      "(256, 256, 3) ----\n",
      "(256, 256, 3)\n",
      "124\n",
      "/kaggle/input/photo-reconstruction/Dataset/Testing_Data/Tiger (2209).jpeg\n",
      "(1, 256, 256, 3)\n",
      "<class 'numpy.ndarray'>\n",
      "(256, 256, 3) ----\n",
      "(256, 256, 3)\n",
      "125\n",
      "/kaggle/input/photo-reconstruction/Dataset/Testing_Data/Elephant-Train (1584).jpeg\n",
      "(1, 256, 256, 3)\n",
      "<class 'numpy.ndarray'>\n",
      "(256, 256, 3) ----\n",
      "(256, 256, 3)\n",
      "126\n",
      "/kaggle/input/photo-reconstruction/Dataset/Testing_Data/Cat-Train (1387).jpeg\n",
      "(1, 256, 256, 3)\n",
      "<class 'numpy.ndarray'>\n",
      "(256, 256, 3) ----\n",
      "(256, 256, 3)\n",
      "127\n",
      "/kaggle/input/photo-reconstruction/Dataset/Testing_Data/Dog-Train (875).jpeg\n",
      "(1, 256, 256, 3)\n",
      "<class 'numpy.ndarray'>\n",
      "(256, 256, 3) ----\n",
      "(256, 256, 3)\n",
      "128\n",
      "/kaggle/input/photo-reconstruction/Dataset/Testing_Data/Tiger (1024).jpeg\n",
      "(1, 256, 256, 3)\n",
      "<class 'numpy.ndarray'>\n",
      "(256, 256, 3) ----\n",
      "(256, 256, 3)\n",
      "129\n",
      "/kaggle/input/photo-reconstruction/Dataset/Testing_Data/Tiger (2077).jpeg\n",
      "(1, 256, 256, 3)\n",
      "<class 'numpy.ndarray'>\n",
      "(256, 256, 3) ----\n",
      "(256, 256, 3)\n",
      "130\n",
      "/kaggle/input/photo-reconstruction/Dataset/Testing_Data/Tiger (1389).jpeg\n",
      "(1, 256, 256, 3)\n",
      "<class 'numpy.ndarray'>\n",
      "(256, 256, 3) ----\n",
      "(256, 256, 3)\n",
      "131\n",
      "/kaggle/input/photo-reconstruction/Dataset/Testing_Data/Elephant-Train (1010).jpeg\n",
      "(1, 256, 256, 3)\n",
      "<class 'numpy.ndarray'>\n",
      "(256, 256, 3) ----\n",
      "(256, 256, 3)\n",
      "132\n",
      "/kaggle/input/photo-reconstruction/Dataset/Testing_Data/Elephant-Train (1521).jpeg\n",
      "(1, 256, 256, 3)\n",
      "<class 'numpy.ndarray'>\n",
      "(256, 256, 3) ----\n",
      "(256, 256, 3)\n",
      "133\n",
      "/kaggle/input/photo-reconstruction/Dataset/Testing_Data/Cat-Train (1457).jpeg\n",
      "(1, 256, 256, 3)\n",
      "<class 'numpy.ndarray'>\n",
      "(256, 256, 3) ----\n",
      "(256, 256, 3)\n",
      "134\n",
      "/kaggle/input/photo-reconstruction/Dataset/Testing_Data/Cat-Train (1525).jpeg\n",
      "(1, 256, 256, 3)\n",
      "<class 'numpy.ndarray'>\n",
      "(256, 256, 3) ----\n",
      "(256, 256, 3)\n",
      "135\n",
      "/kaggle/input/photo-reconstruction/Dataset/Testing_Data/Dog-Train (46).jpg\n",
      "(1, 256, 256, 3)\n",
      "<class 'numpy.ndarray'>\n",
      "(256, 256, 3) ----\n",
      "(256, 256, 3)\n",
      "136\n",
      "/kaggle/input/photo-reconstruction/Dataset/Testing_Data/Cat-Train (61).jpeg\n",
      "(1, 256, 256, 3)\n",
      "<class 'numpy.ndarray'>\n",
      "(256, 256, 3) ----\n",
      "(256, 256, 3)\n",
      "137\n",
      "/kaggle/input/photo-reconstruction/Dataset/Testing_Data/Dog-Train (1536).jpeg\n",
      "(1, 256, 256, 3)\n",
      "<class 'numpy.ndarray'>\n",
      "(256, 256, 3) ----\n",
      "(256, 256, 3)\n",
      "138\n",
      "/kaggle/input/photo-reconstruction/Dataset/Testing_Data/Tiger (990).jpeg\n",
      "(1, 256, 256, 3)\n",
      "<class 'numpy.ndarray'>\n",
      "(256, 256, 3) ----\n",
      "(256, 256, 3)\n",
      "139\n",
      "/kaggle/input/photo-reconstruction/Dataset/Testing_Data/Tiger (1337).jpeg\n",
      "(1, 256, 256, 3)\n",
      "<class 'numpy.ndarray'>\n",
      "(256, 256, 3) ----\n",
      "(256, 256, 3)\n",
      "140\n",
      "/kaggle/input/photo-reconstruction/Dataset/Testing_Data/Dog-Train (182).jpeg\n",
      "(1, 256, 256, 3)\n",
      "<class 'numpy.ndarray'>\n",
      "(256, 256, 3) ----\n",
      "(256, 256, 3)\n",
      "141\n",
      "/kaggle/input/photo-reconstruction/Dataset/Testing_Data/Dog-Train (249).jpeg\n",
      "(1, 256, 256, 3)\n",
      "<class 'numpy.ndarray'>\n",
      "(256, 256, 3) ----\n",
      "(256, 256, 3)\n",
      "142\n",
      "/kaggle/input/photo-reconstruction/Dataset/Testing_Data/Tiger (2227).jpeg\n",
      "(1, 256, 256, 3)\n",
      "<class 'numpy.ndarray'>\n",
      "(256, 256, 3) ----\n",
      "(256, 256, 3)\n",
      "143\n",
      "/kaggle/input/photo-reconstruction/Dataset/Testing_Data/Elephant-Train (482).jpeg\n",
      "(1, 256, 256, 3)\n",
      "<class 'numpy.ndarray'>\n",
      "(256, 256, 3) ----\n",
      "(256, 256, 3)\n",
      "144\n",
      "/kaggle/input/photo-reconstruction/Dataset/Testing_Data/Tiger (1534).jpeg\n",
      "(1, 256, 256, 3)\n",
      "<class 'numpy.ndarray'>\n",
      "(256, 256, 3) ----\n",
      "(256, 256, 3)\n",
      "145\n",
      "/kaggle/input/photo-reconstruction/Dataset/Testing_Data/Tiger (2091).jpeg\n",
      "(1, 256, 256, 3)\n",
      "<class 'numpy.ndarray'>\n",
      "(256, 256, 3) ----\n",
      "(256, 256, 3)\n",
      "146\n",
      "/kaggle/input/photo-reconstruction/Dataset/Testing_Data/Dog-Train (192).jpeg\n",
      "(1, 256, 256, 3)\n",
      "<class 'numpy.ndarray'>\n",
      "(256, 256, 3) ----\n",
      "(256, 256, 3)\n",
      "147\n",
      "/kaggle/input/photo-reconstruction/Dataset/Testing_Data/Cat-Train (1231).jpeg\n",
      "(1, 256, 256, 3)\n",
      "<class 'numpy.ndarray'>\n",
      "(256, 256, 3) ----\n",
      "(256, 256, 3)\n",
      "148\n",
      "/kaggle/input/photo-reconstruction/Dataset/Testing_Data/Tiger (674).jpeg\n",
      "(1, 256, 256, 3)\n",
      "<class 'numpy.ndarray'>\n",
      "(256, 256, 3) ----\n",
      "(256, 256, 3)\n",
      "149\n",
      "/kaggle/input/photo-reconstruction/Dataset/Testing_Data/Elephant-Train (534).jpeg\n",
      "(1, 256, 256, 3)\n",
      "<class 'numpy.ndarray'>\n",
      "(256, 256, 3) ----\n",
      "(256, 256, 3)\n",
      "150\n",
      "/kaggle/input/photo-reconstruction/Dataset/Testing_Data/Cat-Train (471).jpeg\n",
      "(1, 256, 256, 3)\n",
      "<class 'numpy.ndarray'>\n",
      "(256, 256, 3) ----\n",
      "(256, 256, 3)\n",
      "151\n",
      "/kaggle/input/photo-reconstruction/Dataset/Testing_Data/Cat-Train (48).jpg\n",
      "(1, 256, 256, 3)\n",
      "<class 'numpy.ndarray'>\n",
      "(256, 256, 3) ----\n",
      "(256, 256, 3)\n",
      "152\n",
      "/kaggle/input/photo-reconstruction/Dataset/Testing_Data/Dog-Train (1471).jpeg\n",
      "(1, 256, 256, 3)\n",
      "<class 'numpy.ndarray'>\n",
      "(256, 256, 3) ----\n",
      "(256, 256, 3)\n",
      "153\n",
      "/kaggle/input/photo-reconstruction/Dataset/Testing_Data/Tiger (1477).jpeg\n",
      "(1, 256, 256, 3)\n",
      "<class 'numpy.ndarray'>\n",
      "(256, 256, 3) ----\n",
      "(256, 256, 3)\n",
      "154\n",
      "/kaggle/input/photo-reconstruction/Dataset/Testing_Data/Cat-Train (818).jpeg\n",
      "(1, 256, 256, 3)\n",
      "<class 'numpy.ndarray'>\n",
      "(256, 256, 3) ----\n",
      "(256, 256, 3)\n",
      "155\n",
      "/kaggle/input/photo-reconstruction/Dataset/Testing_Data/Elephant-Train (1346).jpeg\n",
      "(1, 256, 256, 3)\n",
      "<class 'numpy.ndarray'>\n",
      "(256, 256, 3) ----\n",
      "(256, 256, 3)\n",
      "156\n",
      "/kaggle/input/photo-reconstruction/Dataset/Testing_Data/Elephant-Train (1842).jpeg\n",
      "(1, 256, 256, 3)\n",
      "<class 'numpy.ndarray'>\n",
      "(256, 256, 3) ----\n",
      "(256, 256, 3)\n",
      "157\n",
      "/kaggle/input/photo-reconstruction/Dataset/Testing_Data/Dog-Train (1020).jpeg\n",
      "(1, 256, 256, 3)\n",
      "<class 'numpy.ndarray'>\n",
      "(256, 256, 3) ----\n",
      "(256, 256, 3)\n",
      "158\n",
      "/kaggle/input/photo-reconstruction/Dataset/Testing_Data/Dog-Train (1707).jpeg\n",
      "(1, 256, 256, 3)\n",
      "<class 'numpy.ndarray'>\n",
      "(256, 256, 3) ----\n",
      "(256, 256, 3)\n",
      "159\n",
      "/kaggle/input/photo-reconstruction/Dataset/Testing_Data/Elephant-Train (1127).jpeg\n",
      "(1, 256, 256, 3)\n",
      "<class 'numpy.ndarray'>\n",
      "(256, 256, 3) ----\n",
      "(256, 256, 3)\n",
      "160\n",
      "/kaggle/input/photo-reconstruction/Dataset/Testing_Data/Tiger (482).jpeg\n",
      "(1, 256, 256, 3)\n",
      "<class 'numpy.ndarray'>\n",
      "(256, 256, 3) ----\n",
      "(256, 256, 3)\n",
      "161\n",
      "/kaggle/input/photo-reconstruction/Dataset/Testing_Data/Cat-Train (1417).jpeg\n",
      "(1, 256, 256, 3)\n",
      "<class 'numpy.ndarray'>\n",
      "(256, 256, 3) ----\n",
      "(256, 256, 3)\n",
      "162\n",
      "/kaggle/input/photo-reconstruction/Dataset/Testing_Data/Elephant-Train (1806).jpeg\n",
      "(1, 256, 256, 3)\n",
      "<class 'numpy.ndarray'>\n",
      "(256, 256, 3) ----\n",
      "(256, 256, 3)\n",
      "163\n",
      "/kaggle/input/photo-reconstruction/Dataset/Testing_Data/Cat-Train (11).jpg\n",
      "(1, 256, 256, 3)\n",
      "<class 'numpy.ndarray'>\n",
      "(256, 256, 3) ----\n",
      "(256, 256, 3)\n",
      "164\n",
      "/kaggle/input/photo-reconstruction/Dataset/Testing_Data/Cat-Train (997).jpeg\n",
      "(1, 256, 256, 3)\n",
      "<class 'numpy.ndarray'>\n",
      "(256, 256, 3) ----\n",
      "(256, 256, 3)\n",
      "165\n",
      "/kaggle/input/photo-reconstruction/Dataset/Testing_Data/Elephant-Train (1183).jpeg\n",
      "(1, 256, 256, 3)\n",
      "<class 'numpy.ndarray'>\n",
      "(256, 256, 3) ----\n",
      "(256, 256, 3)\n",
      "166\n",
      "/kaggle/input/photo-reconstruction/Dataset/Testing_Data/Dog-Train (506).jpeg\n",
      "(1, 256, 256, 3)\n",
      "<class 'numpy.ndarray'>\n",
      "(256, 256, 3) ----\n",
      "(256, 256, 3)\n",
      "167\n",
      "/kaggle/input/photo-reconstruction/Dataset/Testing_Data/Tiger (1685).jpeg\n",
      "(1, 256, 256, 3)\n",
      "<class 'numpy.ndarray'>\n",
      "(256, 256, 3) ----\n",
      "(256, 256, 3)\n",
      "168\n",
      "/kaggle/input/photo-reconstruction/Dataset/Testing_Data/Elephant-Train (1075).jpeg\n",
      "(1, 256, 256, 3)\n",
      "<class 'numpy.ndarray'>\n",
      "(256, 256, 3) ----\n",
      "(256, 256, 3)\n",
      "169\n",
      "/kaggle/input/photo-reconstruction/Dataset/Testing_Data/Tiger (840).jpeg\n",
      "(1, 256, 256, 3)\n",
      "<class 'numpy.ndarray'>\n",
      "(256, 256, 3) ----\n",
      "(256, 256, 3)\n",
      "170\n",
      "/kaggle/input/photo-reconstruction/Dataset/Testing_Data/Dog-Train (1227).jpeg\n",
      "(1, 256, 256, 3)\n",
      "<class 'numpy.ndarray'>\n",
      "(256, 256, 3) ----\n",
      "(256, 256, 3)\n",
      "171\n",
      "/kaggle/input/photo-reconstruction/Dataset/Testing_Data/Cat-Train (898).jpeg\n",
      "(1, 256, 256, 3)\n",
      "<class 'numpy.ndarray'>\n",
      "(256, 256, 3) ----\n",
      "(256, 256, 3)\n",
      "172\n",
      "/kaggle/input/photo-reconstruction/Dataset/Testing_Data/Elephant-Train (1748).jpeg\n",
      "(1, 256, 256, 3)\n",
      "<class 'numpy.ndarray'>\n",
      "(256, 256, 3) ----\n",
      "(256, 256, 3)\n",
      "173\n",
      "/kaggle/input/photo-reconstruction/Dataset/Testing_Data/Tiger (2000).jpeg\n",
      "(1, 256, 256, 3)\n",
      "<class 'numpy.ndarray'>\n",
      "(256, 256, 3) ----\n",
      "(256, 256, 3)\n",
      "174\n",
      "/kaggle/input/photo-reconstruction/Dataset/Testing_Data/Tiger (1707).jpeg\n",
      "(1, 256, 256, 3)\n",
      "<class 'numpy.ndarray'>\n",
      "(256, 256, 3) ----\n",
      "(256, 256, 3)\n",
      "175\n",
      "/kaggle/input/photo-reconstruction/Dataset/Testing_Data/Dog-Train (1203).jpeg\n",
      "(1, 256, 256, 3)\n",
      "<class 'numpy.ndarray'>\n",
      "(256, 256, 3) ----\n",
      "(256, 256, 3)\n",
      "176\n",
      "/kaggle/input/photo-reconstruction/Dataset/Testing_Data/Tiger (1115).jpeg\n",
      "(1, 256, 256, 3)\n",
      "<class 'numpy.ndarray'>\n",
      "(256, 256, 3) ----\n",
      "(256, 256, 3)\n",
      "177\n",
      "/kaggle/input/photo-reconstruction/Dataset/Testing_Data/Tiger (420).jpeg\n",
      "(1, 256, 256, 3)\n",
      "<class 'numpy.ndarray'>\n",
      "(256, 256, 3) ----\n",
      "(256, 256, 3)\n",
      "178\n",
      "/kaggle/input/photo-reconstruction/Dataset/Testing_Data/Tiger (1877).jpeg\n",
      "(1, 256, 256, 3)\n",
      "<class 'numpy.ndarray'>\n",
      "(256, 256, 3) ----\n",
      "(256, 256, 3)\n",
      "179\n",
      "/kaggle/input/photo-reconstruction/Dataset/Testing_Data/Elephant-Train (490).jpeg\n",
      "(1, 256, 256, 3)\n",
      "<class 'numpy.ndarray'>\n",
      "(256, 256, 3) ----\n",
      "(256, 256, 3)\n",
      "180\n",
      "/kaggle/input/photo-reconstruction/Dataset/Testing_Data/Elephant-Train (301).jpeg\n",
      "(1, 256, 256, 3)\n",
      "<class 'numpy.ndarray'>\n",
      "(256, 256, 3) ----\n",
      "(256, 256, 3)\n",
      "181\n",
      "/kaggle/input/photo-reconstruction/Dataset/Testing_Data/Tiger (623).jpeg\n",
      "(1, 256, 256, 3)\n",
      "<class 'numpy.ndarray'>\n",
      "(256, 256, 3) ----\n",
      "(256, 256, 3)\n",
      "182\n",
      "/kaggle/input/photo-reconstruction/Dataset/Testing_Data/Elephant-Train (1083).jpeg\n",
      "(1, 256, 256, 3)\n",
      "<class 'numpy.ndarray'>\n",
      "(256, 256, 3) ----\n",
      "(256, 256, 3)\n",
      "183\n",
      "/kaggle/input/photo-reconstruction/Dataset/Testing_Data/Dog-Train (1463).jpeg\n",
      "(1, 256, 256, 3)\n",
      "<class 'numpy.ndarray'>\n",
      "(256, 256, 3) ----\n",
      "(256, 256, 3)\n",
      "184\n",
      "/kaggle/input/photo-reconstruction/Dataset/Testing_Data/Dog-Train (200).jpeg\n",
      "(1, 256, 256, 3)\n",
      "<class 'numpy.ndarray'>\n",
      "(256, 256, 3) ----\n",
      "(256, 256, 3)\n",
      "185\n",
      "/kaggle/input/photo-reconstruction/Dataset/Testing_Data/Tiger (1958).jpeg\n",
      "(1, 256, 256, 3)\n",
      "<class 'numpy.ndarray'>\n",
      "(256, 256, 3) ----\n",
      "(256, 256, 3)\n",
      "186\n",
      "/kaggle/input/photo-reconstruction/Dataset/Testing_Data/Dog-Train (1753).jpeg\n",
      "(1, 256, 256, 3)\n",
      "<class 'numpy.ndarray'>\n",
      "(256, 256, 3) ----\n",
      "(256, 256, 3)\n",
      "187\n",
      "/kaggle/input/photo-reconstruction/Dataset/Testing_Data/Tiger (939).jpeg\n",
      "(1, 256, 256, 3)\n",
      "<class 'numpy.ndarray'>\n",
      "(256, 256, 3) ----\n",
      "(256, 256, 3)\n",
      "188\n",
      "/kaggle/input/photo-reconstruction/Dataset/Testing_Data/Cat-Train (44).jpg\n",
      "(1, 256, 256, 3)\n",
      "<class 'numpy.ndarray'>\n",
      "(256, 256, 3) ----\n",
      "(256, 256, 3)\n",
      "189\n",
      "/kaggle/input/photo-reconstruction/Dataset/Testing_Data/Cat-Train (1117).jpeg\n",
      "(1, 256, 256, 3)\n",
      "<class 'numpy.ndarray'>\n",
      "(256, 256, 3) ----\n",
      "(256, 256, 3)\n",
      "190\n",
      "/kaggle/input/photo-reconstruction/Dataset/Testing_Data/Dog-Train (820).jpeg\n",
      "(1, 256, 256, 3)\n",
      "<class 'numpy.ndarray'>\n",
      "(256, 256, 3) ----\n",
      "(256, 256, 3)\n",
      "191\n",
      "/kaggle/input/photo-reconstruction/Dataset/Testing_Data/Dog-Train (1241).jpeg\n",
      "(1, 256, 256, 3)\n",
      "<class 'numpy.ndarray'>\n",
      "(256, 256, 3) ----\n",
      "(256, 256, 3)\n",
      "192\n",
      "/kaggle/input/photo-reconstruction/Dataset/Testing_Data/Elephant-Train (1761).jpeg\n",
      "(1, 256, 256, 3)\n",
      "<class 'numpy.ndarray'>\n",
      "(256, 256, 3) ----\n",
      "(256, 256, 3)\n",
      "193\n",
      "/kaggle/input/photo-reconstruction/Dataset/Testing_Data/Dog-Train (1210).jpeg\n",
      "(1, 256, 256, 3)\n",
      "<class 'numpy.ndarray'>\n",
      "(256, 256, 3) ----\n",
      "(256, 256, 3)\n",
      "194\n",
      "/kaggle/input/photo-reconstruction/Dataset/Testing_Data/Cat-Train (250).jpeg\n",
      "(1, 256, 256, 3)\n",
      "<class 'numpy.ndarray'>\n",
      "(256, 256, 3) ----\n",
      "(256, 256, 3)\n",
      "195\n",
      "/kaggle/input/photo-reconstruction/Dataset/Testing_Data/Dog-Train (1640).jpeg\n",
      "(1, 256, 256, 3)\n",
      "<class 'numpy.ndarray'>\n",
      "(256, 256, 3) ----\n",
      "(256, 256, 3)\n",
      "196\n",
      "/kaggle/input/photo-reconstruction/Dataset/Testing_Data/Dog-Train (57).jpg\n",
      "(1, 256, 256, 3)\n",
      "<class 'numpy.ndarray'>\n",
      "(256, 256, 3) ----\n",
      "(256, 256, 3)\n",
      "197\n",
      "/kaggle/input/photo-reconstruction/Dataset/Testing_Data/Tiger (766).jpeg\n",
      "(1, 256, 256, 3)\n",
      "<class 'numpy.ndarray'>\n",
      "(256, 256, 3) ----\n",
      "(256, 256, 3)\n",
      "198\n",
      "/kaggle/input/photo-reconstruction/Dataset/Testing_Data/Tiger (1390).jpeg\n",
      "(1, 256, 256, 3)\n",
      "<class 'numpy.ndarray'>\n",
      "(256, 256, 3) ----\n",
      "(256, 256, 3)\n",
      "199\n",
      "/kaggle/input/photo-reconstruction/Dataset/Testing_Data/Cat-Train (712).jpeg\n",
      "(1, 256, 256, 3)\n",
      "<class 'numpy.ndarray'>\n",
      "(256, 256, 3) ----\n",
      "(256, 256, 3)\n",
      "200\n"
     ]
    }
   ],
   "source": [
    "result_path = '/kaggle/input/masked-info/'\n",
    "batch_size = 1\n",
    "output_images = []\n",
    "i = 1\n",
    "for start,end in zip(range(0, len(test_imgs_path)+1, batch_size),range(batch_size, len(test_imgs_path)+1, batch_size)):\n",
    "    imgs_path = test_imgs_path[start:end]\n",
    "    print(imgs_path[0])\n",
    "    image = give_images(imgs_path)\n",
    "    image[0] = image[0].reshape((1, 256, 256, 3))\n",
    "    print(image[0].shape)\n",
    "    print(type(image[0]))\n",
    "    imgs = generate_images(generator, image[0], example_target)\n",
    "#     imgs = give_images(imgs_path)\n",
    "\n",
    "    print(np.array(imgs).shape,'----')\n",
    "#     reconstruction_vals = sess.run(reconstruction,\n",
    "#         feed_dict={\n",
    "#                images_tf: imgs,\n",
    "#                is_train: False\n",
    "#                })\n",
    "        \n",
    "    print(imgs.shape)\n",
    "    print(i) \n",
    "    i += 1\n",
    "    output_images.append(imgs)"
   ]
  },
  {
   "cell_type": "code",
   "execution_count": 36,
   "id": "0611edf4",
   "metadata": {
    "execution": {
     "iopub.execute_input": "2023-04-15T14:06:01.638053Z",
     "iopub.status.busy": "2023-04-15T14:06:01.637713Z",
     "iopub.status.idle": "2023-04-15T14:06:01.642755Z",
     "shell.execute_reply": "2023-04-15T14:06:01.641632Z"
    },
    "papermill": {
     "duration": 0.030298,
     "end_time": "2023-04-15T14:06:01.645074",
     "exception": false,
     "start_time": "2023-04-15T14:06:01.614776",
     "status": "completed"
    },
    "tags": []
   },
   "outputs": [],
   "source": [
    "test_images_filename = [img.split('/')[-1] for img in test_imgs_path]"
   ]
  },
  {
   "cell_type": "code",
   "execution_count": 37,
   "id": "c61e9b70",
   "metadata": {
    "execution": {
     "iopub.execute_input": "2023-04-15T14:06:01.690931Z",
     "iopub.status.busy": "2023-04-15T14:06:01.690215Z",
     "iopub.status.idle": "2023-04-15T14:06:01.713204Z",
     "shell.execute_reply": "2023-04-15T14:06:01.712227Z"
    },
    "papermill": {
     "duration": 0.049095,
     "end_time": "2023-04-15T14:06:01.715679",
     "exception": false,
     "start_time": "2023-04-15T14:06:01.666584",
     "status": "completed"
    },
    "tags": []
   },
   "outputs": [],
   "source": [
    "mask_info = pd.read_csv(masked_info_path[0],usecols=[1,2,3,4,5]).set_index('filename').reindex(test_images_filename)"
   ]
  },
  {
   "cell_type": "code",
   "execution_count": 38,
   "id": "212fe7ef",
   "metadata": {
    "execution": {
     "iopub.execute_input": "2023-04-15T14:06:01.761249Z",
     "iopub.status.busy": "2023-04-15T14:06:01.760877Z",
     "iopub.status.idle": "2023-04-15T14:06:01.767278Z",
     "shell.execute_reply": "2023-04-15T14:06:01.766288Z"
    },
    "papermill": {
     "duration": 0.031554,
     "end_time": "2023-04-15T14:06:01.769393",
     "exception": false,
     "start_time": "2023-04-15T14:06:01.737839",
     "status": "completed"
    },
    "tags": []
   },
   "outputs": [
    {
     "data": {
      "text/plain": [
       "'Dog-Train (411).jpeg'"
      ]
     },
     "execution_count": 38,
     "metadata": {},
     "output_type": "execute_result"
    }
   ],
   "source": [
    "test_images_filename[0]"
   ]
  },
  {
   "cell_type": "code",
   "execution_count": 39,
   "id": "ab46ccd8",
   "metadata": {
    "execution": {
     "iopub.execute_input": "2023-04-15T14:06:01.814945Z",
     "iopub.status.busy": "2023-04-15T14:06:01.814606Z",
     "iopub.status.idle": "2023-04-15T14:06:01.820967Z",
     "shell.execute_reply": "2023-04-15T14:06:01.819833Z"
    },
    "papermill": {
     "duration": 0.031764,
     "end_time": "2023-04-15T14:06:01.823051",
     "exception": false,
     "start_time": "2023-04-15T14:06:01.791287",
     "status": "completed"
    },
    "tags": []
   },
   "outputs": [
    {
     "data": {
      "text/plain": [
       "(200, 4)"
      ]
     },
     "execution_count": 39,
     "metadata": {},
     "output_type": "execute_result"
    }
   ],
   "source": [
    "mask_info.shape"
   ]
  },
  {
   "cell_type": "code",
   "execution_count": 40,
   "id": "c1266b24",
   "metadata": {
    "execution": {
     "iopub.execute_input": "2023-04-15T14:06:01.869342Z",
     "iopub.status.busy": "2023-04-15T14:06:01.868343Z",
     "iopub.status.idle": "2023-04-15T14:06:01.877064Z",
     "shell.execute_reply": "2023-04-15T14:06:01.876154Z"
    },
    "papermill": {
     "duration": 0.034061,
     "end_time": "2023-04-15T14:06:01.879227",
     "exception": false,
     "start_time": "2023-04-15T14:06:01.845166",
     "status": "completed"
    },
    "tags": []
   },
   "outputs": [
    {
     "data": {
      "text/plain": [
       "200"
      ]
     },
     "execution_count": 40,
     "metadata": {},
     "output_type": "execute_result"
    }
   ],
   "source": [
    "len(output_images)"
   ]
  },
  {
   "cell_type": "code",
   "execution_count": 41,
   "id": "c71faee2",
   "metadata": {
    "execution": {
     "iopub.execute_input": "2023-04-15T14:06:01.925411Z",
     "iopub.status.busy": "2023-04-15T14:06:01.925031Z",
     "iopub.status.idle": "2023-04-15T14:06:01.929744Z",
     "shell.execute_reply": "2023-04-15T14:06:01.928645Z"
    },
    "papermill": {
     "duration": 0.030939,
     "end_time": "2023-04-15T14:06:01.932493",
     "exception": false,
     "start_time": "2023-04-15T14:06:01.901554",
     "status": "completed"
    },
    "tags": []
   },
   "outputs": [],
   "source": [
    "from tensorflow.python.ops.numpy_ops import np_config\n",
    "np_config.enable_numpy_behavior()"
   ]
  },
  {
   "cell_type": "code",
   "execution_count": 42,
   "id": "5c3074d2",
   "metadata": {
    "execution": {
     "iopub.execute_input": "2023-04-15T14:06:01.987013Z",
     "iopub.status.busy": "2023-04-15T14:06:01.986667Z",
     "iopub.status.idle": "2023-04-15T14:06:01.993394Z",
     "shell.execute_reply": "2023-04-15T14:06:01.992200Z"
    },
    "papermill": {
     "duration": 0.038083,
     "end_time": "2023-04-15T14:06:01.995657",
     "exception": false,
     "start_time": "2023-04-15T14:06:01.957574",
     "status": "completed"
    },
    "tags": []
   },
   "outputs": [
    {
     "data": {
      "text/plain": [
       "tensorflow.python.framework.ops.EagerTensor"
      ]
     },
     "execution_count": 42,
     "metadata": {},
     "output_type": "execute_result"
    }
   ],
   "source": [
    "type(output_images[0])"
   ]
  },
  {
   "cell_type": "code",
   "execution_count": 43,
   "id": "5e351fb3",
   "metadata": {
    "execution": {
     "iopub.execute_input": "2023-04-15T14:06:02.042498Z",
     "iopub.status.busy": "2023-04-15T14:06:02.042124Z",
     "iopub.status.idle": "2023-04-15T14:06:02.048913Z",
     "shell.execute_reply": "2023-04-15T14:06:02.047801Z"
    },
    "papermill": {
     "duration": 0.034375,
     "end_time": "2023-04-15T14:06:02.052497",
     "exception": false,
     "start_time": "2023-04-15T14:06:02.018122",
     "status": "completed"
    },
    "tags": []
   },
   "outputs": [
    {
     "data": {
      "text/plain": [
       "TensorShape([256, 256, 3])"
      ]
     },
     "execution_count": 43,
     "metadata": {},
     "output_type": "execute_result"
    }
   ],
   "source": [
    "output_images[0].shape"
   ]
  },
  {
   "cell_type": "code",
   "execution_count": 44,
   "id": "4c08e067",
   "metadata": {
    "execution": {
     "iopub.execute_input": "2023-04-15T14:06:02.099500Z",
     "iopub.status.busy": "2023-04-15T14:06:02.099129Z",
     "iopub.status.idle": "2023-04-15T14:06:13.322220Z",
     "shell.execute_reply": "2023-04-15T14:06:13.321023Z"
    },
    "papermill": {
     "duration": 11.249615,
     "end_time": "2023-04-15T14:06:13.325086",
     "exception": false,
     "start_time": "2023-04-15T14:06:02.075471",
     "status": "completed"
    },
    "tags": []
   },
   "outputs": [],
   "source": [
    "filename=[]\n",
    "value=[]\n",
    "iters = mask_info.shape[0]\n",
    "i=0\n",
    "while i < iters  :\n",
    "    img = (255. * (output_images[i].numpy() + 1)/2.).astype(int)\n",
    "    ind = mask_info.index[i]\n",
    "    row1=int(mask_info.loc[ind,'box1_row'])\n",
    "    col1=int(mask_info.loc[ind,'box1_col'])\n",
    "    row2=int(mask_info.loc[ind,'box2_row'])\n",
    "    col2=int(mask_info.loc[ind,'box2_col'])\n",
    "    temp1=test_images_filename[i]+'_box1_'\n",
    "    temp2=test_images_filename[i]+'_box2_'\n",
    "    for r in range(row1,row1+75):\n",
    "        for c in range(col1,col1+75):\n",
    "            for channel in range(0,3):\n",
    "                filename.append(temp1+str(r)+'_'+str(c)+'_'+str(channel))\n",
    "                value.append(img[r,c,channel]/255)\n",
    "    for r in range(row2,row2+75):\n",
    "        for c in range(col2,col2+75):\n",
    "            for channel in range(0,3):\n",
    "                filename.append(temp2+str(r)+'_'+str(c)+'_'+str(channel))\n",
    "                value.append(img[r,c,channel]/255)\n",
    "    i+=1\n",
    "    \n",
    "    "
   ]
  },
  {
   "cell_type": "code",
   "execution_count": 45,
   "id": "e301d834",
   "metadata": {
    "execution": {
     "iopub.execute_input": "2023-04-15T14:06:13.373520Z",
     "iopub.status.busy": "2023-04-15T14:06:13.373134Z",
     "iopub.status.idle": "2023-04-15T14:06:13.379550Z",
     "shell.execute_reply": "2023-04-15T14:06:13.378528Z"
    },
    "papermill": {
     "duration": 0.032721,
     "end_time": "2023-04-15T14:06:13.381697",
     "exception": false,
     "start_time": "2023-04-15T14:06:13.348976",
     "status": "completed"
    },
    "tags": []
   },
   "outputs": [
    {
     "data": {
      "text/plain": [
       "6750000"
      ]
     },
     "execution_count": 45,
     "metadata": {},
     "output_type": "execute_result"
    }
   ],
   "source": [
    "len(filename)"
   ]
  },
  {
   "cell_type": "code",
   "execution_count": 46,
   "id": "a9c8159b",
   "metadata": {
    "execution": {
     "iopub.execute_input": "2023-04-15T14:06:13.428406Z",
     "iopub.status.busy": "2023-04-15T14:06:13.427516Z",
     "iopub.status.idle": "2023-04-15T14:06:16.332768Z",
     "shell.execute_reply": "2023-04-15T14:06:16.331669Z"
    },
    "papermill": {
     "duration": 2.931272,
     "end_time": "2023-04-15T14:06:16.335377",
     "exception": false,
     "start_time": "2023-04-15T14:06:13.404105",
     "status": "completed"
    },
    "tags": []
   },
   "outputs": [],
   "source": [
    "output_df = pd.DataFrame(list(zip(filename, value)), columns=['filename_box_pixel', 'Value'])"
   ]
  },
  {
   "cell_type": "code",
   "execution_count": 47,
   "id": "63b7fa14",
   "metadata": {
    "execution": {
     "iopub.execute_input": "2023-04-15T14:06:16.383215Z",
     "iopub.status.busy": "2023-04-15T14:06:16.382184Z",
     "iopub.status.idle": "2023-04-15T14:06:16.389250Z",
     "shell.execute_reply": "2023-04-15T14:06:16.388150Z"
    },
    "papermill": {
     "duration": 0.033471,
     "end_time": "2023-04-15T14:06:16.391963",
     "exception": false,
     "start_time": "2023-04-15T14:06:16.358492",
     "status": "completed"
    },
    "tags": []
   },
   "outputs": [
    {
     "data": {
      "text/plain": [
       "(6750000, 2)"
      ]
     },
     "execution_count": 47,
     "metadata": {},
     "output_type": "execute_result"
    }
   ],
   "source": [
    "output_df.shape"
   ]
  },
  {
   "cell_type": "code",
   "execution_count": 48,
   "id": "d455684f",
   "metadata": {
    "execution": {
     "iopub.execute_input": "2023-04-15T14:06:16.438533Z",
     "iopub.status.busy": "2023-04-15T14:06:16.438144Z",
     "iopub.status.idle": "2023-04-15T14:06:31.258974Z",
     "shell.execute_reply": "2023-04-15T14:06:31.257904Z"
    },
    "papermill": {
     "duration": 14.847486,
     "end_time": "2023-04-15T14:06:31.261912",
     "exception": false,
     "start_time": "2023-04-15T14:06:16.414426",
     "status": "completed"
    },
    "tags": []
   },
   "outputs": [],
   "source": [
    "output_df.to_csv('output_final_v2.csv',index=False)"
   ]
  },
  {
   "cell_type": "code",
   "execution_count": 49,
   "id": "c6bccab6",
   "metadata": {
    "execution": {
     "iopub.execute_input": "2023-04-15T14:06:31.313447Z",
     "iopub.status.busy": "2023-04-15T14:06:31.312202Z",
     "iopub.status.idle": "2023-04-15T14:06:31.325398Z",
     "shell.execute_reply": "2023-04-15T14:06:31.324257Z"
    },
    "papermill": {
     "duration": 0.040863,
     "end_time": "2023-04-15T14:06:31.327586",
     "exception": false,
     "start_time": "2023-04-15T14:06:31.286723",
     "status": "completed"
    },
    "tags": []
   },
   "outputs": [
    {
     "data": {
      "text/plain": [
       "<tf.Tensor: shape=(), dtype=float32, numpy=0.3634839>"
      ]
     },
     "execution_count": 49,
     "metadata": {},
     "output_type": "execute_result"
    }
   ],
   "source": [
    "output_images[0][0,0,0]"
   ]
  },
  {
   "cell_type": "code",
   "execution_count": 50,
   "id": "b1608212",
   "metadata": {
    "execution": {
     "iopub.execute_input": "2023-04-15T14:06:31.389680Z",
     "iopub.status.busy": "2023-04-15T14:06:31.388757Z",
     "iopub.status.idle": "2023-04-15T14:06:31.396082Z",
     "shell.execute_reply": "2023-04-15T14:06:31.395017Z"
    },
    "papermill": {
     "duration": 0.046578,
     "end_time": "2023-04-15T14:06:31.398150",
     "exception": false,
     "start_time": "2023-04-15T14:06:31.351572",
     "status": "completed"
    },
    "tags": []
   },
   "outputs": [
    {
     "data": {
      "text/plain": [
       "int"
      ]
     },
     "execution_count": 50,
     "metadata": {},
     "output_type": "execute_result"
    }
   ],
   "source": [
    "type(1)"
   ]
  },
  {
   "cell_type": "code",
   "execution_count": 51,
   "id": "14159ebe",
   "metadata": {
    "execution": {
     "iopub.execute_input": "2023-04-15T14:06:31.445963Z",
     "iopub.status.busy": "2023-04-15T14:06:31.445068Z",
     "iopub.status.idle": "2023-04-15T14:06:31.451891Z",
     "shell.execute_reply": "2023-04-15T14:06:31.450804Z"
    },
    "papermill": {
     "duration": 0.033263,
     "end_time": "2023-04-15T14:06:31.454444",
     "exception": false,
     "start_time": "2023-04-15T14:06:31.421181",
     "status": "completed"
    },
    "tags": []
   },
   "outputs": [
    {
     "data": {
      "text/plain": [
       "int"
      ]
     },
     "execution_count": 51,
     "metadata": {},
     "output_type": "execute_result"
    }
   ],
   "source": [
    "type(2)"
   ]
  },
  {
   "cell_type": "code",
   "execution_count": 52,
   "id": "4d6e1077",
   "metadata": {
    "execution": {
     "iopub.execute_input": "2023-04-15T14:06:31.501724Z",
     "iopub.status.busy": "2023-04-15T14:06:31.501391Z",
     "iopub.status.idle": "2023-04-15T14:06:31.507680Z",
     "shell.execute_reply": "2023-04-15T14:06:31.506706Z"
    },
    "papermill": {
     "duration": 0.032464,
     "end_time": "2023-04-15T14:06:31.509742",
     "exception": false,
     "start_time": "2023-04-15T14:06:31.477278",
     "status": "completed"
    },
    "tags": []
   },
   "outputs": [
    {
     "data": {
      "text/plain": [
       "int"
      ]
     },
     "execution_count": 52,
     "metadata": {},
     "output_type": "execute_result"
    }
   ],
   "source": [
    "type(2)"
   ]
  },
  {
   "cell_type": "code",
   "execution_count": null,
   "id": "c3087047",
   "metadata": {
    "papermill": {
     "duration": 0.022988,
     "end_time": "2023-04-15T14:06:31.555817",
     "exception": false,
     "start_time": "2023-04-15T14:06:31.532829",
     "status": "completed"
    },
    "tags": []
   },
   "outputs": [],
   "source": []
  }
 ],
 "metadata": {
  "kernelspec": {
   "display_name": "Python 3",
   "language": "python",
   "name": "python3"
  },
  "language_info": {
   "codemirror_mode": {
    "name": "ipython",
    "version": 3
   },
   "file_extension": ".py",
   "mimetype": "text/x-python",
   "name": "python",
   "nbconvert_exporter": "python",
   "pygments_lexer": "ipython3",
   "version": "3.7.12"
  },
  "papermill": {
   "default_parameters": {},
   "duration": 8080.768333,
   "end_time": "2023-04-15T14:06:35.194228",
   "environment_variables": {},
   "exception": null,
   "input_path": "__notebook__.ipynb",
   "output_path": "__notebook__.ipynb",
   "parameters": {},
   "start_time": "2023-04-15T11:51:54.425895",
   "version": "2.4.0"
  }
 },
 "nbformat": 4,
 "nbformat_minor": 5
}
